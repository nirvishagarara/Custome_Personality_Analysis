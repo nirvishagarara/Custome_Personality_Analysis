{
 "cells": [
  {
   "cell_type": "markdown",
   "metadata": {
    "papermill": {
     "duration": 0.026475,
     "end_time": "2021-09-25T10:02:14.784693",
     "exception": false,
     "start_time": "2021-09-25T10:02:14.758218",
     "status": "completed"
    },
    "tags": []
   },
   "source": [
    "# 1. Context\n",
    "## 1.1 Problem Statement\n",
    "\n",
    "Customer Personality Analysis is a detailed analysis of a company’s ideal dfomers. It helps a business to better understand its dfomers and makes it easier for them to modify products according to the specific needs, behaviors and concerns of different types of dfomers.\n",
    "\n",
    "Customer personality analysis helps a business to modify its product based on its target dfomers from different types of dfomer segments. For example, instead of spending money to market a new product to every dfomer in the company’s database, a company can analyze which dfomer segment is most likely to buy the product and then market the product only on that particular segment.\n"
   ]
  },
  {
   "cell_type": "code",
   "execution_count": 488,
   "metadata": {
    "ExecuteTime": {
     "end_time": "2022-04-29T02:30:00.697288Z",
     "start_time": "2022-04-29T02:29:59.177220Z"
    },
    "_cell_guid": "b1076dfc-b9ad-4769-8c92-a6c4dae69d19",
    "_kg_hide-input": true,
    "_uuid": "8f2839f25d086af736a60e9eeb907d3b93b6e0e5",
    "papermill": {
     "duration": 2.077508,
     "end_time": "2021-09-25T10:02:16.889043",
     "exception": false,
     "start_time": "2021-09-25T10:02:14.811535",
     "status": "completed"
    },
    "tags": []
   },
   "outputs": [
    {
     "data": {
      "text/html": [
       "        <script type=\"text/javascript\">\n",
       "        window.PlotlyConfig = {MathJaxConfig: 'local'};\n",
       "        if (window.MathJax) {MathJax.Hub.Config({SVG: {font: \"STIX-Web\"}});}\n",
       "        if (typeof require !== 'undefined') {\n",
       "        require.undef(\"plotly\");\n",
       "        requirejs.config({\n",
       "            paths: {\n",
       "                'plotly': ['https://cdn.plot.ly/plotly-2.11.1.min']\n",
       "            }\n",
       "        });\n",
       "        require(['plotly'], function(Plotly) {\n",
       "            window._Plotly = Plotly;\n",
       "        });\n",
       "        }\n",
       "        </script>\n",
       "        "
      ]
     },
     "metadata": {},
     "output_type": "display_data"
    }
   ],
   "source": [
    "import pandas as pd\n",
    "import numpy as np\n",
    "import warnings\n",
    "warnings.filterwarnings('ignore')\n",
    "pd.set_option('max_columns',None)\n",
    "import decimal\n",
    "\n",
    "import plotly as py\n",
    "import plotly.express as px\n",
    "import plotly.graph_objs as go\n",
    "from plotly.offline import init_notebook_mode\n",
    "init_notebook_mode(connected = True)\n",
    "import matplotlib.lines as lines\n",
    "\n",
    "\n",
    "import matplotlib.pyplot as plt\n",
    "import seaborn as sns\n",
    "\n",
    "PALETTE = ['#dd4124','#009473', '#b4b4b4', '#336b87']\n",
    "\n",
    "%matplotlib inline"
   ]
  },
  {
   "cell_type": "code",
   "execution_count": 489,
   "metadata": {
    "ExecuteTime": {
     "end_time": "2022-04-29T02:30:00.712924Z",
     "start_time": "2022-04-29T02:30:00.698321Z"
    }
   },
   "outputs": [],
   "source": [
    "# pip install plotly"
   ]
  },
  {
   "cell_type": "code",
   "execution_count": 490,
   "metadata": {
    "ExecuteTime": {
     "end_time": "2022-04-29T02:30:00.822745Z",
     "start_time": "2022-04-29T02:30:00.714913Z"
    },
    "_kg_hide-input": true,
    "papermill": {
     "duration": 0.170684,
     "end_time": "2021-09-25T10:02:17.14101",
     "exception": false,
     "start_time": "2021-09-25T10:02:16.970326",
     "status": "completed"
    },
    "tags": []
   },
   "outputs": [],
   "source": [
    "df = pd.read_csv( \"marketing_campaign.csv\",sep='\\t')\n"
   ]
  },
  {
   "cell_type": "code",
   "execution_count": 491,
   "metadata": {
    "ExecuteTime": {
     "end_time": "2022-04-29T02:30:00.854661Z",
     "start_time": "2022-04-29T02:30:00.823757Z"
    }
   },
   "outputs": [
    {
     "data": {
      "text/html": [
       "<div>\n",
       "<style scoped>\n",
       "    .dataframe tbody tr th:only-of-type {\n",
       "        vertical-align: middle;\n",
       "    }\n",
       "\n",
       "    .dataframe tbody tr th {\n",
       "        vertical-align: top;\n",
       "    }\n",
       "\n",
       "    .dataframe thead th {\n",
       "        text-align: right;\n",
       "    }\n",
       "</style>\n",
       "<table border=\"1\" class=\"dataframe\">\n",
       "  <thead>\n",
       "    <tr style=\"text-align: right;\">\n",
       "      <th></th>\n",
       "      <th>ID</th>\n",
       "      <th>Year_Birth</th>\n",
       "      <th>Education</th>\n",
       "      <th>Marital_Status</th>\n",
       "      <th>Income</th>\n",
       "      <th>Kidhome</th>\n",
       "      <th>Teenhome</th>\n",
       "      <th>Dt_Customer</th>\n",
       "      <th>Recency</th>\n",
       "      <th>MntWines</th>\n",
       "      <th>MntFruits</th>\n",
       "      <th>MntMeatProducts</th>\n",
       "      <th>MntFishProducts</th>\n",
       "      <th>MntSweetProducts</th>\n",
       "      <th>MntGoldProds</th>\n",
       "      <th>NumDealsPurchases</th>\n",
       "      <th>NumWebPurchases</th>\n",
       "      <th>NumCatalogPurchases</th>\n",
       "      <th>NumStorePurchases</th>\n",
       "      <th>NumWebVisitsMonth</th>\n",
       "      <th>AcceptedCmp3</th>\n",
       "      <th>AcceptedCmp4</th>\n",
       "      <th>AcceptedCmp5</th>\n",
       "      <th>AcceptedCmp1</th>\n",
       "      <th>AcceptedCmp2</th>\n",
       "      <th>Complain</th>\n",
       "      <th>Z_CostContact</th>\n",
       "      <th>Z_Revenue</th>\n",
       "      <th>Response</th>\n",
       "    </tr>\n",
       "  </thead>\n",
       "  <tbody>\n",
       "    <tr>\n",
       "      <th>0</th>\n",
       "      <td>5524</td>\n",
       "      <td>1957</td>\n",
       "      <td>Graduation</td>\n",
       "      <td>Single</td>\n",
       "      <td>58138.0</td>\n",
       "      <td>0</td>\n",
       "      <td>0</td>\n",
       "      <td>04-09-2012</td>\n",
       "      <td>58</td>\n",
       "      <td>635</td>\n",
       "      <td>88</td>\n",
       "      <td>546</td>\n",
       "      <td>172</td>\n",
       "      <td>88</td>\n",
       "      <td>88</td>\n",
       "      <td>3</td>\n",
       "      <td>8</td>\n",
       "      <td>10</td>\n",
       "      <td>4</td>\n",
       "      <td>7</td>\n",
       "      <td>0</td>\n",
       "      <td>0</td>\n",
       "      <td>0</td>\n",
       "      <td>0</td>\n",
       "      <td>0</td>\n",
       "      <td>0</td>\n",
       "      <td>3</td>\n",
       "      <td>11</td>\n",
       "      <td>1</td>\n",
       "    </tr>\n",
       "    <tr>\n",
       "      <th>1</th>\n",
       "      <td>2174</td>\n",
       "      <td>1954</td>\n",
       "      <td>Graduation</td>\n",
       "      <td>Single</td>\n",
       "      <td>46344.0</td>\n",
       "      <td>1</td>\n",
       "      <td>1</td>\n",
       "      <td>08-03-2014</td>\n",
       "      <td>38</td>\n",
       "      <td>11</td>\n",
       "      <td>1</td>\n",
       "      <td>6</td>\n",
       "      <td>2</td>\n",
       "      <td>1</td>\n",
       "      <td>6</td>\n",
       "      <td>2</td>\n",
       "      <td>1</td>\n",
       "      <td>1</td>\n",
       "      <td>2</td>\n",
       "      <td>5</td>\n",
       "      <td>0</td>\n",
       "      <td>0</td>\n",
       "      <td>0</td>\n",
       "      <td>0</td>\n",
       "      <td>0</td>\n",
       "      <td>0</td>\n",
       "      <td>3</td>\n",
       "      <td>11</td>\n",
       "      <td>0</td>\n",
       "    </tr>\n",
       "    <tr>\n",
       "      <th>2</th>\n",
       "      <td>4141</td>\n",
       "      <td>1965</td>\n",
       "      <td>Graduation</td>\n",
       "      <td>Together</td>\n",
       "      <td>71613.0</td>\n",
       "      <td>0</td>\n",
       "      <td>0</td>\n",
       "      <td>21-08-2013</td>\n",
       "      <td>26</td>\n",
       "      <td>426</td>\n",
       "      <td>49</td>\n",
       "      <td>127</td>\n",
       "      <td>111</td>\n",
       "      <td>21</td>\n",
       "      <td>42</td>\n",
       "      <td>1</td>\n",
       "      <td>8</td>\n",
       "      <td>2</td>\n",
       "      <td>10</td>\n",
       "      <td>4</td>\n",
       "      <td>0</td>\n",
       "      <td>0</td>\n",
       "      <td>0</td>\n",
       "      <td>0</td>\n",
       "      <td>0</td>\n",
       "      <td>0</td>\n",
       "      <td>3</td>\n",
       "      <td>11</td>\n",
       "      <td>0</td>\n",
       "    </tr>\n",
       "    <tr>\n",
       "      <th>3</th>\n",
       "      <td>6182</td>\n",
       "      <td>1984</td>\n",
       "      <td>Graduation</td>\n",
       "      <td>Together</td>\n",
       "      <td>26646.0</td>\n",
       "      <td>1</td>\n",
       "      <td>0</td>\n",
       "      <td>10-02-2014</td>\n",
       "      <td>26</td>\n",
       "      <td>11</td>\n",
       "      <td>4</td>\n",
       "      <td>20</td>\n",
       "      <td>10</td>\n",
       "      <td>3</td>\n",
       "      <td>5</td>\n",
       "      <td>2</td>\n",
       "      <td>2</td>\n",
       "      <td>0</td>\n",
       "      <td>4</td>\n",
       "      <td>6</td>\n",
       "      <td>0</td>\n",
       "      <td>0</td>\n",
       "      <td>0</td>\n",
       "      <td>0</td>\n",
       "      <td>0</td>\n",
       "      <td>0</td>\n",
       "      <td>3</td>\n",
       "      <td>11</td>\n",
       "      <td>0</td>\n",
       "    </tr>\n",
       "    <tr>\n",
       "      <th>4</th>\n",
       "      <td>5324</td>\n",
       "      <td>1981</td>\n",
       "      <td>PhD</td>\n",
       "      <td>Married</td>\n",
       "      <td>58293.0</td>\n",
       "      <td>1</td>\n",
       "      <td>0</td>\n",
       "      <td>19-01-2014</td>\n",
       "      <td>94</td>\n",
       "      <td>173</td>\n",
       "      <td>43</td>\n",
       "      <td>118</td>\n",
       "      <td>46</td>\n",
       "      <td>27</td>\n",
       "      <td>15</td>\n",
       "      <td>5</td>\n",
       "      <td>5</td>\n",
       "      <td>3</td>\n",
       "      <td>6</td>\n",
       "      <td>5</td>\n",
       "      <td>0</td>\n",
       "      <td>0</td>\n",
       "      <td>0</td>\n",
       "      <td>0</td>\n",
       "      <td>0</td>\n",
       "      <td>0</td>\n",
       "      <td>3</td>\n",
       "      <td>11</td>\n",
       "      <td>0</td>\n",
       "    </tr>\n",
       "  </tbody>\n",
       "</table>\n",
       "</div>"
      ],
      "text/plain": [
       "     ID  Year_Birth   Education Marital_Status   Income  Kidhome  Teenhome  \\\n",
       "0  5524        1957  Graduation         Single  58138.0        0         0   \n",
       "1  2174        1954  Graduation         Single  46344.0        1         1   \n",
       "2  4141        1965  Graduation       Together  71613.0        0         0   \n",
       "3  6182        1984  Graduation       Together  26646.0        1         0   \n",
       "4  5324        1981         PhD        Married  58293.0        1         0   \n",
       "\n",
       "  Dt_Customer  Recency  MntWines  MntFruits  MntMeatProducts  MntFishProducts  \\\n",
       "0  04-09-2012       58       635         88              546              172   \n",
       "1  08-03-2014       38        11          1                6                2   \n",
       "2  21-08-2013       26       426         49              127              111   \n",
       "3  10-02-2014       26        11          4               20               10   \n",
       "4  19-01-2014       94       173         43              118               46   \n",
       "\n",
       "   MntSweetProducts  MntGoldProds  NumDealsPurchases  NumWebPurchases  \\\n",
       "0                88            88                  3                8   \n",
       "1                 1             6                  2                1   \n",
       "2                21            42                  1                8   \n",
       "3                 3             5                  2                2   \n",
       "4                27            15                  5                5   \n",
       "\n",
       "   NumCatalogPurchases  NumStorePurchases  NumWebVisitsMonth  AcceptedCmp3  \\\n",
       "0                   10                  4                  7             0   \n",
       "1                    1                  2                  5             0   \n",
       "2                    2                 10                  4             0   \n",
       "3                    0                  4                  6             0   \n",
       "4                    3                  6                  5             0   \n",
       "\n",
       "   AcceptedCmp4  AcceptedCmp5  AcceptedCmp1  AcceptedCmp2  Complain  \\\n",
       "0             0             0             0             0         0   \n",
       "1             0             0             0             0         0   \n",
       "2             0             0             0             0         0   \n",
       "3             0             0             0             0         0   \n",
       "4             0             0             0             0         0   \n",
       "\n",
       "   Z_CostContact  Z_Revenue  Response  \n",
       "0              3         11         1  \n",
       "1              3         11         0  \n",
       "2              3         11         0  \n",
       "3              3         11         0  \n",
       "4              3         11         0  "
      ]
     },
     "execution_count": 491,
     "metadata": {},
     "output_type": "execute_result"
    }
   ],
   "source": [
    "df.head()"
   ]
  },
  {
   "cell_type": "markdown",
   "metadata": {
    "papermill": {
     "duration": 0.028036,
     "end_time": "2021-09-25T10:02:17.197491",
     "exception": false,
     "start_time": "2021-09-25T10:02:17.169455",
     "status": "completed"
    },
    "tags": []
   },
   "source": [
    "# **2. Preprocessing**"
   ]
  },
  {
   "cell_type": "code",
   "execution_count": 492,
   "metadata": {
    "ExecuteTime": {
     "end_time": "2022-04-29T02:30:00.869619Z",
     "start_time": "2022-04-29T02:30:00.855657Z"
    },
    "_kg_hide-input": true,
    "papermill": {
     "duration": 0.038886,
     "end_time": "2021-09-25T10:02:17.265479",
     "exception": false,
     "start_time": "2021-09-25T10:02:17.226593",
     "status": "completed"
    },
    "tags": []
   },
   "outputs": [
    {
     "name": "stdout",
     "output_type": "stream",
     "text": [
      "Column: Income having 24 missing values\n"
     ]
    }
   ],
   "source": [
    "# df.head()\n",
    "# df.shape #(2240,29)\n",
    "# df.info() #information about the dataframe\n",
    "col = df.isnull().sum() #Income column having 24 missing values\n",
    "col = col[col>0]\n",
    "print(f'Column: {col.index[0]} having {col.values[0]} missing values')\n",
    "\n"
   ]
  },
  {
   "cell_type": "code",
   "execution_count": 493,
   "metadata": {
    "ExecuteTime": {
     "end_time": "2022-04-29T02:30:00.930457Z",
     "start_time": "2022-04-29T02:30:00.871617Z"
    },
    "_kg_hide-input": true,
    "papermill": {
     "duration": 0.120057,
     "end_time": "2021-09-25T10:02:17.424343",
     "exception": false,
     "start_time": "2021-09-25T10:02:17.304286",
     "status": "completed"
    },
    "tags": []
   },
   "outputs": [
    {
     "data": {
      "text/html": [
       "<style  type=\"text/css\" >\n",
       "#T_fcc90_row0_col1{\n",
       "            width:  10em;\n",
       "             height:  80%;\n",
       "            background:  linear-gradient(90deg,#606ff2 10.7%, transparent 10.7%);\n",
       "        }#T_fcc90_row0_col2{\n",
       "            background-color:  #ebe6f2;\n",
       "            color:  #000000;\n",
       "        }#T_fcc90_row0_col5{\n",
       "            background-color:  #efe9f3;\n",
       "            color:  #000000;\n",
       "        }#T_fcc90_row1_col1{\n",
       "            width:  10em;\n",
       "             height:  80%;\n",
       "            background:  linear-gradient(90deg,#606ff2 3.8%, transparent 3.8%);\n",
       "        }#T_fcc90_row1_col2,#T_fcc90_row3_col2,#T_fcc90_row3_col5,#T_fcc90_row4_col2,#T_fcc90_row4_col5,#T_fcc90_row5_col2,#T_fcc90_row5_col5,#T_fcc90_row6_col5,#T_fcc90_row7_col2,#T_fcc90_row7_col5,#T_fcc90_row8_col5,#T_fcc90_row9_col2,#T_fcc90_row9_col5,#T_fcc90_row10_col2,#T_fcc90_row10_col5,#T_fcc90_row11_col2,#T_fcc90_row11_col5,#T_fcc90_row12_col2,#T_fcc90_row12_col5,#T_fcc90_row13_col2,#T_fcc90_row13_col5,#T_fcc90_row14_col2,#T_fcc90_row14_col5,#T_fcc90_row15_col2,#T_fcc90_row15_col5,#T_fcc90_row16_col2,#T_fcc90_row16_col5,#T_fcc90_row17_col2,#T_fcc90_row17_col5,#T_fcc90_row18_col2,#T_fcc90_row18_col5,#T_fcc90_row19_col2,#T_fcc90_row19_col5,#T_fcc90_row20_col2,#T_fcc90_row20_col5,#T_fcc90_row21_col2,#T_fcc90_row21_col5,#T_fcc90_row22_col2,#T_fcc90_row22_col5,#T_fcc90_row23_col2,#T_fcc90_row23_col5,#T_fcc90_row24_col2,#T_fcc90_row24_col5,#T_fcc90_row25_col2,#T_fcc90_row25_col5{\n",
       "            background-color:  #fff7fb;\n",
       "            color:  #000000;\n",
       "        }#T_fcc90_row1_col5{\n",
       "            background-color:  #faf2f8;\n",
       "            color:  #000000;\n",
       "        }#T_fcc90_row2_col1{\n",
       "            width:  10em;\n",
       "             height:  80%;\n",
       "            background:  linear-gradient(90deg,#606ff2 100.0%, transparent 100.0%);\n",
       "        }#T_fcc90_row2_col2,#T_fcc90_row2_col5{\n",
       "            background-color:  #023858;\n",
       "            color:  #f1f1f1;\n",
       "        }#T_fcc90_row3_col1,#T_fcc90_row4_col1,#T_fcc90_row12_col1,#T_fcc90_row13_col1,#T_fcc90_row14_col1,#T_fcc90_row15_col1,#T_fcc90_row16_col1,#T_fcc90_row17_col1,#T_fcc90_row18_col1,#T_fcc90_row19_col1,#T_fcc90_row20_col1,#T_fcc90_row21_col1,#T_fcc90_row23_col1,#T_fcc90_row24_col1,#T_fcc90_row25_col1{\n",
       "            width:  10em;\n",
       "             height:  80%;\n",
       "            background:  linear-gradient(90deg,#606ff2 0.0%, transparent 0.0%);\n",
       "        }#T_fcc90_row5_col1,#T_fcc90_row7_col1,#T_fcc90_row9_col1,#T_fcc90_row10_col1,#T_fcc90_row11_col1{\n",
       "            width:  10em;\n",
       "             height:  80%;\n",
       "            background:  linear-gradient(90deg,#606ff2 0.1%, transparent 0.1%);\n",
       "        }#T_fcc90_row6_col1{\n",
       "            width:  10em;\n",
       "             height:  80%;\n",
       "            background:  linear-gradient(90deg,#606ff2 0.6%, transparent 0.6%);\n",
       "        }#T_fcc90_row6_col2{\n",
       "            background-color:  #fdf5fa;\n",
       "            color:  #000000;\n",
       "        }#T_fcc90_row8_col1{\n",
       "            width:  10em;\n",
       "             height:  80%;\n",
       "            background:  linear-gradient(90deg,#606ff2 0.3%, transparent 0.3%);\n",
       "        }#T_fcc90_row8_col2{\n",
       "            background-color:  #fef6fa;\n",
       "            color:  #000000;\n",
       "        }#T_fcc90_row22_col1{\n",
       "            width:  10em;\n",
       "             height:  80%;\n",
       "        }</style><table id=\"T_fcc90_\" ><thead>    <tr>        <th class=\"blank level0\" ></th>        <th class=\"col_heading level0 col0\" >count</th>        <th class=\"col_heading level0 col1\" >mean</th>        <th class=\"col_heading level0 col2\" >std</th>        <th class=\"col_heading level0 col3\" >min</th>        <th class=\"col_heading level0 col4\" >25%</th>        <th class=\"col_heading level0 col5\" >50%</th>        <th class=\"col_heading level0 col6\" >75%</th>        <th class=\"col_heading level0 col7\" >max</th>    </tr></thead><tbody>\n",
       "                <tr>\n",
       "                        <th id=\"T_fcc90_level0_row0\" class=\"row_heading level0 row0\" >ID</th>\n",
       "                        <td id=\"T_fcc90_row0_col0\" class=\"data row0 col0\" >2240.000000</td>\n",
       "                        <td id=\"T_fcc90_row0_col1\" class=\"data row0 col1\" >5592.159821</td>\n",
       "                        <td id=\"T_fcc90_row0_col2\" class=\"data row0 col2\" >3246.662198</td>\n",
       "                        <td id=\"T_fcc90_row0_col3\" class=\"data row0 col3\" >0.000000</td>\n",
       "                        <td id=\"T_fcc90_row0_col4\" class=\"data row0 col4\" >2828.250000</td>\n",
       "                        <td id=\"T_fcc90_row0_col5\" class=\"data row0 col5\" >5458.500000</td>\n",
       "                        <td id=\"T_fcc90_row0_col6\" class=\"data row0 col6\" >8427.750000</td>\n",
       "                        <td id=\"T_fcc90_row0_col7\" class=\"data row0 col7\" >11191.000000</td>\n",
       "            </tr>\n",
       "            <tr>\n",
       "                        <th id=\"T_fcc90_level0_row1\" class=\"row_heading level0 row1\" >Year_Birth</th>\n",
       "                        <td id=\"T_fcc90_row1_col0\" class=\"data row1 col0\" >2240.000000</td>\n",
       "                        <td id=\"T_fcc90_row1_col1\" class=\"data row1 col1\" >1968.805804</td>\n",
       "                        <td id=\"T_fcc90_row1_col2\" class=\"data row1 col2\" >11.984069</td>\n",
       "                        <td id=\"T_fcc90_row1_col3\" class=\"data row1 col3\" >1893.000000</td>\n",
       "                        <td id=\"T_fcc90_row1_col4\" class=\"data row1 col4\" >1959.000000</td>\n",
       "                        <td id=\"T_fcc90_row1_col5\" class=\"data row1 col5\" >1970.000000</td>\n",
       "                        <td id=\"T_fcc90_row1_col6\" class=\"data row1 col6\" >1977.000000</td>\n",
       "                        <td id=\"T_fcc90_row1_col7\" class=\"data row1 col7\" >1996.000000</td>\n",
       "            </tr>\n",
       "            <tr>\n",
       "                        <th id=\"T_fcc90_level0_row2\" class=\"row_heading level0 row2\" >Income</th>\n",
       "                        <td id=\"T_fcc90_row2_col0\" class=\"data row2 col0\" >2216.000000</td>\n",
       "                        <td id=\"T_fcc90_row2_col1\" class=\"data row2 col1\" >52247.251354</td>\n",
       "                        <td id=\"T_fcc90_row2_col2\" class=\"data row2 col2\" >25173.076661</td>\n",
       "                        <td id=\"T_fcc90_row2_col3\" class=\"data row2 col3\" >1730.000000</td>\n",
       "                        <td id=\"T_fcc90_row2_col4\" class=\"data row2 col4\" >35303.000000</td>\n",
       "                        <td id=\"T_fcc90_row2_col5\" class=\"data row2 col5\" >51381.500000</td>\n",
       "                        <td id=\"T_fcc90_row2_col6\" class=\"data row2 col6\" >68522.000000</td>\n",
       "                        <td id=\"T_fcc90_row2_col7\" class=\"data row2 col7\" >666666.000000</td>\n",
       "            </tr>\n",
       "            <tr>\n",
       "                        <th id=\"T_fcc90_level0_row3\" class=\"row_heading level0 row3\" >Kidhome</th>\n",
       "                        <td id=\"T_fcc90_row3_col0\" class=\"data row3 col0\" >2240.000000</td>\n",
       "                        <td id=\"T_fcc90_row3_col1\" class=\"data row3 col1\" >0.444196</td>\n",
       "                        <td id=\"T_fcc90_row3_col2\" class=\"data row3 col2\" >0.538398</td>\n",
       "                        <td id=\"T_fcc90_row3_col3\" class=\"data row3 col3\" >0.000000</td>\n",
       "                        <td id=\"T_fcc90_row3_col4\" class=\"data row3 col4\" >0.000000</td>\n",
       "                        <td id=\"T_fcc90_row3_col5\" class=\"data row3 col5\" >0.000000</td>\n",
       "                        <td id=\"T_fcc90_row3_col6\" class=\"data row3 col6\" >1.000000</td>\n",
       "                        <td id=\"T_fcc90_row3_col7\" class=\"data row3 col7\" >2.000000</td>\n",
       "            </tr>\n",
       "            <tr>\n",
       "                        <th id=\"T_fcc90_level0_row4\" class=\"row_heading level0 row4\" >Teenhome</th>\n",
       "                        <td id=\"T_fcc90_row4_col0\" class=\"data row4 col0\" >2240.000000</td>\n",
       "                        <td id=\"T_fcc90_row4_col1\" class=\"data row4 col1\" >0.506250</td>\n",
       "                        <td id=\"T_fcc90_row4_col2\" class=\"data row4 col2\" >0.544538</td>\n",
       "                        <td id=\"T_fcc90_row4_col3\" class=\"data row4 col3\" >0.000000</td>\n",
       "                        <td id=\"T_fcc90_row4_col4\" class=\"data row4 col4\" >0.000000</td>\n",
       "                        <td id=\"T_fcc90_row4_col5\" class=\"data row4 col5\" >0.000000</td>\n",
       "                        <td id=\"T_fcc90_row4_col6\" class=\"data row4 col6\" >1.000000</td>\n",
       "                        <td id=\"T_fcc90_row4_col7\" class=\"data row4 col7\" >2.000000</td>\n",
       "            </tr>\n",
       "            <tr>\n",
       "                        <th id=\"T_fcc90_level0_row5\" class=\"row_heading level0 row5\" >Recency</th>\n",
       "                        <td id=\"T_fcc90_row5_col0\" class=\"data row5 col0\" >2240.000000</td>\n",
       "                        <td id=\"T_fcc90_row5_col1\" class=\"data row5 col1\" >49.109375</td>\n",
       "                        <td id=\"T_fcc90_row5_col2\" class=\"data row5 col2\" >28.962453</td>\n",
       "                        <td id=\"T_fcc90_row5_col3\" class=\"data row5 col3\" >0.000000</td>\n",
       "                        <td id=\"T_fcc90_row5_col4\" class=\"data row5 col4\" >24.000000</td>\n",
       "                        <td id=\"T_fcc90_row5_col5\" class=\"data row5 col5\" >49.000000</td>\n",
       "                        <td id=\"T_fcc90_row5_col6\" class=\"data row5 col6\" >74.000000</td>\n",
       "                        <td id=\"T_fcc90_row5_col7\" class=\"data row5 col7\" >99.000000</td>\n",
       "            </tr>\n",
       "            <tr>\n",
       "                        <th id=\"T_fcc90_level0_row6\" class=\"row_heading level0 row6\" >MntWines</th>\n",
       "                        <td id=\"T_fcc90_row6_col0\" class=\"data row6 col0\" >2240.000000</td>\n",
       "                        <td id=\"T_fcc90_row6_col1\" class=\"data row6 col1\" >303.935714</td>\n",
       "                        <td id=\"T_fcc90_row6_col2\" class=\"data row6 col2\" >336.597393</td>\n",
       "                        <td id=\"T_fcc90_row6_col3\" class=\"data row6 col3\" >0.000000</td>\n",
       "                        <td id=\"T_fcc90_row6_col4\" class=\"data row6 col4\" >23.750000</td>\n",
       "                        <td id=\"T_fcc90_row6_col5\" class=\"data row6 col5\" >173.500000</td>\n",
       "                        <td id=\"T_fcc90_row6_col6\" class=\"data row6 col6\" >504.250000</td>\n",
       "                        <td id=\"T_fcc90_row6_col7\" class=\"data row6 col7\" >1493.000000</td>\n",
       "            </tr>\n",
       "            <tr>\n",
       "                        <th id=\"T_fcc90_level0_row7\" class=\"row_heading level0 row7\" >MntFruits</th>\n",
       "                        <td id=\"T_fcc90_row7_col0\" class=\"data row7 col0\" >2240.000000</td>\n",
       "                        <td id=\"T_fcc90_row7_col1\" class=\"data row7 col1\" >26.302232</td>\n",
       "                        <td id=\"T_fcc90_row7_col2\" class=\"data row7 col2\" >39.773434</td>\n",
       "                        <td id=\"T_fcc90_row7_col3\" class=\"data row7 col3\" >0.000000</td>\n",
       "                        <td id=\"T_fcc90_row7_col4\" class=\"data row7 col4\" >1.000000</td>\n",
       "                        <td id=\"T_fcc90_row7_col5\" class=\"data row7 col5\" >8.000000</td>\n",
       "                        <td id=\"T_fcc90_row7_col6\" class=\"data row7 col6\" >33.000000</td>\n",
       "                        <td id=\"T_fcc90_row7_col7\" class=\"data row7 col7\" >199.000000</td>\n",
       "            </tr>\n",
       "            <tr>\n",
       "                        <th id=\"T_fcc90_level0_row8\" class=\"row_heading level0 row8\" >MntMeatProducts</th>\n",
       "                        <td id=\"T_fcc90_row8_col0\" class=\"data row8 col0\" >2240.000000</td>\n",
       "                        <td id=\"T_fcc90_row8_col1\" class=\"data row8 col1\" >166.950000</td>\n",
       "                        <td id=\"T_fcc90_row8_col2\" class=\"data row8 col2\" >225.715373</td>\n",
       "                        <td id=\"T_fcc90_row8_col3\" class=\"data row8 col3\" >0.000000</td>\n",
       "                        <td id=\"T_fcc90_row8_col4\" class=\"data row8 col4\" >16.000000</td>\n",
       "                        <td id=\"T_fcc90_row8_col5\" class=\"data row8 col5\" >67.000000</td>\n",
       "                        <td id=\"T_fcc90_row8_col6\" class=\"data row8 col6\" >232.000000</td>\n",
       "                        <td id=\"T_fcc90_row8_col7\" class=\"data row8 col7\" >1725.000000</td>\n",
       "            </tr>\n",
       "            <tr>\n",
       "                        <th id=\"T_fcc90_level0_row9\" class=\"row_heading level0 row9\" >MntFishProducts</th>\n",
       "                        <td id=\"T_fcc90_row9_col0\" class=\"data row9 col0\" >2240.000000</td>\n",
       "                        <td id=\"T_fcc90_row9_col1\" class=\"data row9 col1\" >37.525446</td>\n",
       "                        <td id=\"T_fcc90_row9_col2\" class=\"data row9 col2\" >54.628979</td>\n",
       "                        <td id=\"T_fcc90_row9_col3\" class=\"data row9 col3\" >0.000000</td>\n",
       "                        <td id=\"T_fcc90_row9_col4\" class=\"data row9 col4\" >3.000000</td>\n",
       "                        <td id=\"T_fcc90_row9_col5\" class=\"data row9 col5\" >12.000000</td>\n",
       "                        <td id=\"T_fcc90_row9_col6\" class=\"data row9 col6\" >50.000000</td>\n",
       "                        <td id=\"T_fcc90_row9_col7\" class=\"data row9 col7\" >259.000000</td>\n",
       "            </tr>\n",
       "            <tr>\n",
       "                        <th id=\"T_fcc90_level0_row10\" class=\"row_heading level0 row10\" >MntSweetProducts</th>\n",
       "                        <td id=\"T_fcc90_row10_col0\" class=\"data row10 col0\" >2240.000000</td>\n",
       "                        <td id=\"T_fcc90_row10_col1\" class=\"data row10 col1\" >27.062946</td>\n",
       "                        <td id=\"T_fcc90_row10_col2\" class=\"data row10 col2\" >41.280498</td>\n",
       "                        <td id=\"T_fcc90_row10_col3\" class=\"data row10 col3\" >0.000000</td>\n",
       "                        <td id=\"T_fcc90_row10_col4\" class=\"data row10 col4\" >1.000000</td>\n",
       "                        <td id=\"T_fcc90_row10_col5\" class=\"data row10 col5\" >8.000000</td>\n",
       "                        <td id=\"T_fcc90_row10_col6\" class=\"data row10 col6\" >33.000000</td>\n",
       "                        <td id=\"T_fcc90_row10_col7\" class=\"data row10 col7\" >263.000000</td>\n",
       "            </tr>\n",
       "            <tr>\n",
       "                        <th id=\"T_fcc90_level0_row11\" class=\"row_heading level0 row11\" >MntGoldProds</th>\n",
       "                        <td id=\"T_fcc90_row11_col0\" class=\"data row11 col0\" >2240.000000</td>\n",
       "                        <td id=\"T_fcc90_row11_col1\" class=\"data row11 col1\" >44.021875</td>\n",
       "                        <td id=\"T_fcc90_row11_col2\" class=\"data row11 col2\" >52.167439</td>\n",
       "                        <td id=\"T_fcc90_row11_col3\" class=\"data row11 col3\" >0.000000</td>\n",
       "                        <td id=\"T_fcc90_row11_col4\" class=\"data row11 col4\" >9.000000</td>\n",
       "                        <td id=\"T_fcc90_row11_col5\" class=\"data row11 col5\" >24.000000</td>\n",
       "                        <td id=\"T_fcc90_row11_col6\" class=\"data row11 col6\" >56.000000</td>\n",
       "                        <td id=\"T_fcc90_row11_col7\" class=\"data row11 col7\" >362.000000</td>\n",
       "            </tr>\n",
       "            <tr>\n",
       "                        <th id=\"T_fcc90_level0_row12\" class=\"row_heading level0 row12\" >NumDealsPurchases</th>\n",
       "                        <td id=\"T_fcc90_row12_col0\" class=\"data row12 col0\" >2240.000000</td>\n",
       "                        <td id=\"T_fcc90_row12_col1\" class=\"data row12 col1\" >2.325000</td>\n",
       "                        <td id=\"T_fcc90_row12_col2\" class=\"data row12 col2\" >1.932238</td>\n",
       "                        <td id=\"T_fcc90_row12_col3\" class=\"data row12 col3\" >0.000000</td>\n",
       "                        <td id=\"T_fcc90_row12_col4\" class=\"data row12 col4\" >1.000000</td>\n",
       "                        <td id=\"T_fcc90_row12_col5\" class=\"data row12 col5\" >2.000000</td>\n",
       "                        <td id=\"T_fcc90_row12_col6\" class=\"data row12 col6\" >3.000000</td>\n",
       "                        <td id=\"T_fcc90_row12_col7\" class=\"data row12 col7\" >15.000000</td>\n",
       "            </tr>\n",
       "            <tr>\n",
       "                        <th id=\"T_fcc90_level0_row13\" class=\"row_heading level0 row13\" >NumWebPurchases</th>\n",
       "                        <td id=\"T_fcc90_row13_col0\" class=\"data row13 col0\" >2240.000000</td>\n",
       "                        <td id=\"T_fcc90_row13_col1\" class=\"data row13 col1\" >4.084821</td>\n",
       "                        <td id=\"T_fcc90_row13_col2\" class=\"data row13 col2\" >2.778714</td>\n",
       "                        <td id=\"T_fcc90_row13_col3\" class=\"data row13 col3\" >0.000000</td>\n",
       "                        <td id=\"T_fcc90_row13_col4\" class=\"data row13 col4\" >2.000000</td>\n",
       "                        <td id=\"T_fcc90_row13_col5\" class=\"data row13 col5\" >4.000000</td>\n",
       "                        <td id=\"T_fcc90_row13_col6\" class=\"data row13 col6\" >6.000000</td>\n",
       "                        <td id=\"T_fcc90_row13_col7\" class=\"data row13 col7\" >27.000000</td>\n",
       "            </tr>\n",
       "            <tr>\n",
       "                        <th id=\"T_fcc90_level0_row14\" class=\"row_heading level0 row14\" >NumCatalogPurchases</th>\n",
       "                        <td id=\"T_fcc90_row14_col0\" class=\"data row14 col0\" >2240.000000</td>\n",
       "                        <td id=\"T_fcc90_row14_col1\" class=\"data row14 col1\" >2.662054</td>\n",
       "                        <td id=\"T_fcc90_row14_col2\" class=\"data row14 col2\" >2.923101</td>\n",
       "                        <td id=\"T_fcc90_row14_col3\" class=\"data row14 col3\" >0.000000</td>\n",
       "                        <td id=\"T_fcc90_row14_col4\" class=\"data row14 col4\" >0.000000</td>\n",
       "                        <td id=\"T_fcc90_row14_col5\" class=\"data row14 col5\" >2.000000</td>\n",
       "                        <td id=\"T_fcc90_row14_col6\" class=\"data row14 col6\" >4.000000</td>\n",
       "                        <td id=\"T_fcc90_row14_col7\" class=\"data row14 col7\" >28.000000</td>\n",
       "            </tr>\n",
       "            <tr>\n",
       "                        <th id=\"T_fcc90_level0_row15\" class=\"row_heading level0 row15\" >NumStorePurchases</th>\n",
       "                        <td id=\"T_fcc90_row15_col0\" class=\"data row15 col0\" >2240.000000</td>\n",
       "                        <td id=\"T_fcc90_row15_col1\" class=\"data row15 col1\" >5.790179</td>\n",
       "                        <td id=\"T_fcc90_row15_col2\" class=\"data row15 col2\" >3.250958</td>\n",
       "                        <td id=\"T_fcc90_row15_col3\" class=\"data row15 col3\" >0.000000</td>\n",
       "                        <td id=\"T_fcc90_row15_col4\" class=\"data row15 col4\" >3.000000</td>\n",
       "                        <td id=\"T_fcc90_row15_col5\" class=\"data row15 col5\" >5.000000</td>\n",
       "                        <td id=\"T_fcc90_row15_col6\" class=\"data row15 col6\" >8.000000</td>\n",
       "                        <td id=\"T_fcc90_row15_col7\" class=\"data row15 col7\" >13.000000</td>\n",
       "            </tr>\n",
       "            <tr>\n",
       "                        <th id=\"T_fcc90_level0_row16\" class=\"row_heading level0 row16\" >NumWebVisitsMonth</th>\n",
       "                        <td id=\"T_fcc90_row16_col0\" class=\"data row16 col0\" >2240.000000</td>\n",
       "                        <td id=\"T_fcc90_row16_col1\" class=\"data row16 col1\" >5.316518</td>\n",
       "                        <td id=\"T_fcc90_row16_col2\" class=\"data row16 col2\" >2.426645</td>\n",
       "                        <td id=\"T_fcc90_row16_col3\" class=\"data row16 col3\" >0.000000</td>\n",
       "                        <td id=\"T_fcc90_row16_col4\" class=\"data row16 col4\" >3.000000</td>\n",
       "                        <td id=\"T_fcc90_row16_col5\" class=\"data row16 col5\" >6.000000</td>\n",
       "                        <td id=\"T_fcc90_row16_col6\" class=\"data row16 col6\" >7.000000</td>\n",
       "                        <td id=\"T_fcc90_row16_col7\" class=\"data row16 col7\" >20.000000</td>\n",
       "            </tr>\n",
       "            <tr>\n",
       "                        <th id=\"T_fcc90_level0_row17\" class=\"row_heading level0 row17\" >AcceptedCmp3</th>\n",
       "                        <td id=\"T_fcc90_row17_col0\" class=\"data row17 col0\" >2240.000000</td>\n",
       "                        <td id=\"T_fcc90_row17_col1\" class=\"data row17 col1\" >0.072768</td>\n",
       "                        <td id=\"T_fcc90_row17_col2\" class=\"data row17 col2\" >0.259813</td>\n",
       "                        <td id=\"T_fcc90_row17_col3\" class=\"data row17 col3\" >0.000000</td>\n",
       "                        <td id=\"T_fcc90_row17_col4\" class=\"data row17 col4\" >0.000000</td>\n",
       "                        <td id=\"T_fcc90_row17_col5\" class=\"data row17 col5\" >0.000000</td>\n",
       "                        <td id=\"T_fcc90_row17_col6\" class=\"data row17 col6\" >0.000000</td>\n",
       "                        <td id=\"T_fcc90_row17_col7\" class=\"data row17 col7\" >1.000000</td>\n",
       "            </tr>\n",
       "            <tr>\n",
       "                        <th id=\"T_fcc90_level0_row18\" class=\"row_heading level0 row18\" >AcceptedCmp4</th>\n",
       "                        <td id=\"T_fcc90_row18_col0\" class=\"data row18 col0\" >2240.000000</td>\n",
       "                        <td id=\"T_fcc90_row18_col1\" class=\"data row18 col1\" >0.074554</td>\n",
       "                        <td id=\"T_fcc90_row18_col2\" class=\"data row18 col2\" >0.262728</td>\n",
       "                        <td id=\"T_fcc90_row18_col3\" class=\"data row18 col3\" >0.000000</td>\n",
       "                        <td id=\"T_fcc90_row18_col4\" class=\"data row18 col4\" >0.000000</td>\n",
       "                        <td id=\"T_fcc90_row18_col5\" class=\"data row18 col5\" >0.000000</td>\n",
       "                        <td id=\"T_fcc90_row18_col6\" class=\"data row18 col6\" >0.000000</td>\n",
       "                        <td id=\"T_fcc90_row18_col7\" class=\"data row18 col7\" >1.000000</td>\n",
       "            </tr>\n",
       "            <tr>\n",
       "                        <th id=\"T_fcc90_level0_row19\" class=\"row_heading level0 row19\" >AcceptedCmp5</th>\n",
       "                        <td id=\"T_fcc90_row19_col0\" class=\"data row19 col0\" >2240.000000</td>\n",
       "                        <td id=\"T_fcc90_row19_col1\" class=\"data row19 col1\" >0.072768</td>\n",
       "                        <td id=\"T_fcc90_row19_col2\" class=\"data row19 col2\" >0.259813</td>\n",
       "                        <td id=\"T_fcc90_row19_col3\" class=\"data row19 col3\" >0.000000</td>\n",
       "                        <td id=\"T_fcc90_row19_col4\" class=\"data row19 col4\" >0.000000</td>\n",
       "                        <td id=\"T_fcc90_row19_col5\" class=\"data row19 col5\" >0.000000</td>\n",
       "                        <td id=\"T_fcc90_row19_col6\" class=\"data row19 col6\" >0.000000</td>\n",
       "                        <td id=\"T_fcc90_row19_col7\" class=\"data row19 col7\" >1.000000</td>\n",
       "            </tr>\n",
       "            <tr>\n",
       "                        <th id=\"T_fcc90_level0_row20\" class=\"row_heading level0 row20\" >AcceptedCmp1</th>\n",
       "                        <td id=\"T_fcc90_row20_col0\" class=\"data row20 col0\" >2240.000000</td>\n",
       "                        <td id=\"T_fcc90_row20_col1\" class=\"data row20 col1\" >0.064286</td>\n",
       "                        <td id=\"T_fcc90_row20_col2\" class=\"data row20 col2\" >0.245316</td>\n",
       "                        <td id=\"T_fcc90_row20_col3\" class=\"data row20 col3\" >0.000000</td>\n",
       "                        <td id=\"T_fcc90_row20_col4\" class=\"data row20 col4\" >0.000000</td>\n",
       "                        <td id=\"T_fcc90_row20_col5\" class=\"data row20 col5\" >0.000000</td>\n",
       "                        <td id=\"T_fcc90_row20_col6\" class=\"data row20 col6\" >0.000000</td>\n",
       "                        <td id=\"T_fcc90_row20_col7\" class=\"data row20 col7\" >1.000000</td>\n",
       "            </tr>\n",
       "            <tr>\n",
       "                        <th id=\"T_fcc90_level0_row21\" class=\"row_heading level0 row21\" >AcceptedCmp2</th>\n",
       "                        <td id=\"T_fcc90_row21_col0\" class=\"data row21 col0\" >2240.000000</td>\n",
       "                        <td id=\"T_fcc90_row21_col1\" class=\"data row21 col1\" >0.013393</td>\n",
       "                        <td id=\"T_fcc90_row21_col2\" class=\"data row21 col2\" >0.114976</td>\n",
       "                        <td id=\"T_fcc90_row21_col3\" class=\"data row21 col3\" >0.000000</td>\n",
       "                        <td id=\"T_fcc90_row21_col4\" class=\"data row21 col4\" >0.000000</td>\n",
       "                        <td id=\"T_fcc90_row21_col5\" class=\"data row21 col5\" >0.000000</td>\n",
       "                        <td id=\"T_fcc90_row21_col6\" class=\"data row21 col6\" >0.000000</td>\n",
       "                        <td id=\"T_fcc90_row21_col7\" class=\"data row21 col7\" >1.000000</td>\n",
       "            </tr>\n",
       "            <tr>\n",
       "                        <th id=\"T_fcc90_level0_row22\" class=\"row_heading level0 row22\" >Complain</th>\n",
       "                        <td id=\"T_fcc90_row22_col0\" class=\"data row22 col0\" >2240.000000</td>\n",
       "                        <td id=\"T_fcc90_row22_col1\" class=\"data row22 col1\" >0.009375</td>\n",
       "                        <td id=\"T_fcc90_row22_col2\" class=\"data row22 col2\" >0.096391</td>\n",
       "                        <td id=\"T_fcc90_row22_col3\" class=\"data row22 col3\" >0.000000</td>\n",
       "                        <td id=\"T_fcc90_row22_col4\" class=\"data row22 col4\" >0.000000</td>\n",
       "                        <td id=\"T_fcc90_row22_col5\" class=\"data row22 col5\" >0.000000</td>\n",
       "                        <td id=\"T_fcc90_row22_col6\" class=\"data row22 col6\" >0.000000</td>\n",
       "                        <td id=\"T_fcc90_row22_col7\" class=\"data row22 col7\" >1.000000</td>\n",
       "            </tr>\n",
       "            <tr>\n",
       "                        <th id=\"T_fcc90_level0_row23\" class=\"row_heading level0 row23\" >Z_CostContact</th>\n",
       "                        <td id=\"T_fcc90_row23_col0\" class=\"data row23 col0\" >2240.000000</td>\n",
       "                        <td id=\"T_fcc90_row23_col1\" class=\"data row23 col1\" >3.000000</td>\n",
       "                        <td id=\"T_fcc90_row23_col2\" class=\"data row23 col2\" >0.000000</td>\n",
       "                        <td id=\"T_fcc90_row23_col3\" class=\"data row23 col3\" >3.000000</td>\n",
       "                        <td id=\"T_fcc90_row23_col4\" class=\"data row23 col4\" >3.000000</td>\n",
       "                        <td id=\"T_fcc90_row23_col5\" class=\"data row23 col5\" >3.000000</td>\n",
       "                        <td id=\"T_fcc90_row23_col6\" class=\"data row23 col6\" >3.000000</td>\n",
       "                        <td id=\"T_fcc90_row23_col7\" class=\"data row23 col7\" >3.000000</td>\n",
       "            </tr>\n",
       "            <tr>\n",
       "                        <th id=\"T_fcc90_level0_row24\" class=\"row_heading level0 row24\" >Z_Revenue</th>\n",
       "                        <td id=\"T_fcc90_row24_col0\" class=\"data row24 col0\" >2240.000000</td>\n",
       "                        <td id=\"T_fcc90_row24_col1\" class=\"data row24 col1\" >11.000000</td>\n",
       "                        <td id=\"T_fcc90_row24_col2\" class=\"data row24 col2\" >0.000000</td>\n",
       "                        <td id=\"T_fcc90_row24_col3\" class=\"data row24 col3\" >11.000000</td>\n",
       "                        <td id=\"T_fcc90_row24_col4\" class=\"data row24 col4\" >11.000000</td>\n",
       "                        <td id=\"T_fcc90_row24_col5\" class=\"data row24 col5\" >11.000000</td>\n",
       "                        <td id=\"T_fcc90_row24_col6\" class=\"data row24 col6\" >11.000000</td>\n",
       "                        <td id=\"T_fcc90_row24_col7\" class=\"data row24 col7\" >11.000000</td>\n",
       "            </tr>\n",
       "            <tr>\n",
       "                        <th id=\"T_fcc90_level0_row25\" class=\"row_heading level0 row25\" >Response</th>\n",
       "                        <td id=\"T_fcc90_row25_col0\" class=\"data row25 col0\" >2240.000000</td>\n",
       "                        <td id=\"T_fcc90_row25_col1\" class=\"data row25 col1\" >0.149107</td>\n",
       "                        <td id=\"T_fcc90_row25_col2\" class=\"data row25 col2\" >0.356274</td>\n",
       "                        <td id=\"T_fcc90_row25_col3\" class=\"data row25 col3\" >0.000000</td>\n",
       "                        <td id=\"T_fcc90_row25_col4\" class=\"data row25 col4\" >0.000000</td>\n",
       "                        <td id=\"T_fcc90_row25_col5\" class=\"data row25 col5\" >0.000000</td>\n",
       "                        <td id=\"T_fcc90_row25_col6\" class=\"data row25 col6\" >0.000000</td>\n",
       "                        <td id=\"T_fcc90_row25_col7\" class=\"data row25 col7\" >1.000000</td>\n",
       "            </tr>\n",
       "    </tbody></table>"
      ],
      "text/plain": [
       "<pandas.io.formats.style.Styler at 0x7f9b6589fe50>"
      ]
     },
     "execution_count": 493,
     "metadata": {},
     "output_type": "execute_result"
    }
   ],
   "source": [
    "df.describe().T.style.bar(subset=['mean'], color='#606ff2')\\\n",
    "                            .background_gradient(subset=['std'], cmap='PuBu')\\\n",
    "                            .background_gradient(subset=['50%'], cmap='PuBu')"
   ]
  },
  {
   "cell_type": "code",
   "execution_count": 494,
   "metadata": {
    "ExecuteTime": {
     "end_time": "2022-04-29T02:30:00.946415Z",
     "start_time": "2022-04-29T02:30:00.931459Z"
    },
    "papermill": {
     "duration": 0.633494,
     "end_time": "2021-09-25T10:02:18.204947",
     "exception": false,
     "start_time": "2021-09-25T10:02:17.571453",
     "status": "completed"
    },
    "tags": []
   },
   "outputs": [],
   "source": [
    "df['Kids'] = df['Kidhome'] + df['Teenhome']\n",
    "\n",
    "re_marital = {\n",
    "    'Single': 'Not in relationship',\n",
    "    'Together': 'In relationship',\n",
    "    'Married': 'In relationship',\n",
    "    'Divorced': 'Not in relationship',\n",
    "    'Widow': 'Not in relationship',\n",
    "    'Alone': 'Not in relationship',\n",
    "    'Absurd': 'Not in relationship',\n",
    "    'YOLO': 'Not in relationship'\n",
    "}\n",
    "\n",
    "df['Marital_Status'] = df['Marital_Status'].map(re_marital)\n",
    "\n",
    "df['Family_size'] = 0\n",
    "\n"
   ]
  },
  {
   "cell_type": "code",
   "execution_count": 495,
   "metadata": {
    "ExecuteTime": {
     "end_time": "2022-04-29T02:30:01.400662Z",
     "start_time": "2022-04-29T02:30:00.947414Z"
    }
   },
   "outputs": [],
   "source": [
    "for i in range(len(df)):\n",
    "    \n",
    "    if df['Marital_Status'][i] == 'In relationship':\n",
    "        df['Family_size'][i] = 2 + df['Kids'][i]\n",
    "    else:\n",
    "        df['Family_size'][i] = 1 + df['Kids'][i]"
   ]
  },
  {
   "cell_type": "code",
   "execution_count": 496,
   "metadata": {
    "ExecuteTime": {
     "end_time": "2022-04-29T02:30:01.416642Z",
     "start_time": "2022-04-29T02:30:01.402678Z"
    }
   },
   "outputs": [
    {
     "data": {
      "text/plain": [
       "'Not in relationship'"
      ]
     },
     "execution_count": 496,
     "metadata": {},
     "output_type": "execute_result"
    }
   ],
   "source": [
    "df['Marital_Status'][0]"
   ]
  },
  {
   "cell_type": "markdown",
   "metadata": {
    "papermill": {
     "duration": 0.02913,
     "end_time": "2021-09-25T10:02:18.263634",
     "exception": false,
     "start_time": "2021-09-25T10:02:18.234504",
     "status": "completed"
    },
    "tags": []
   },
   "source": [
    "Let's highlight the age and time that a person is a client."
   ]
  },
  {
   "cell_type": "code",
   "execution_count": 497,
   "metadata": {
    "ExecuteTime": {
     "end_time": "2022-04-29T02:30:01.432601Z",
     "start_time": "2022-04-29T02:30:01.417639Z"
    },
    "papermill": {
     "duration": 0.04254,
     "end_time": "2021-09-25T10:02:18.336018",
     "exception": false,
     "start_time": "2021-09-25T10:02:18.293478",
     "status": "completed"
    },
    "tags": []
   },
   "outputs": [
    {
     "data": {
      "text/plain": [
       "(Timestamp('2014-12-06 00:00:00'), Timestamp('2012-01-08 00:00:00'))"
      ]
     },
     "execution_count": 497,
     "metadata": {},
     "output_type": "execute_result"
    }
   ],
   "source": [
    "df['Dt_Customer'] = pd.to_datetime(df['Dt_Customer'])\n",
    "df['Dt_Customer'].max(), df['Dt_Customer'].min()"
   ]
  },
  {
   "cell_type": "markdown",
   "metadata": {
    "papermill": {
     "duration": 0.029591,
     "end_time": "2021-09-25T10:02:18.395188",
     "exception": false,
     "start_time": "2021-09-25T10:02:18.365597",
     "status": "completed"
    },
    "tags": []
   },
   "source": [
    "We will assume that the customer information was collected 2014-12-07."
   ]
  },
  {
   "cell_type": "code",
   "execution_count": 498,
   "metadata": {
    "ExecuteTime": {
     "end_time": "2022-04-29T02:30:01.447913Z",
     "start_time": "2022-04-29T02:30:01.433598Z"
    },
    "papermill": {
     "duration": 0.042558,
     "end_time": "2021-09-25T10:02:18.467194",
     "exception": false,
     "start_time": "2021-09-25T10:02:18.424636",
     "status": "completed"
    },
    "tags": []
   },
   "outputs": [],
   "source": [
    "df['Age'] = 2014 - df['Year_Birth']\n",
    "df['Collected'] = '2014-12-07'\n",
    "df['Collected'] = pd.to_datetime(df['Collected'])\n",
    "df['Days_is_client'] = (df['Collected'] - df['Dt_Customer']).dt.days"
   ]
  },
  {
   "cell_type": "markdown",
   "metadata": {
    "papermill": {
     "duration": 0.029249,
     "end_time": "2021-09-25T10:02:18.525891",
     "exception": false,
     "start_time": "2021-09-25T10:02:18.496642",
     "status": "completed"
    },
    "tags": []
   },
   "source": [
    "And some more information about purchases."
   ]
  },
  {
   "cell_type": "code",
   "execution_count": 499,
   "metadata": {
    "ExecuteTime": {
     "end_time": "2022-04-29T02:30:01.463232Z",
     "start_time": "2022-04-29T02:30:01.449451Z"
    },
    "papermill": {
     "duration": 0.043951,
     "end_time": "2021-09-25T10:02:18.599222",
     "exception": false,
     "start_time": "2021-09-25T10:02:18.555271",
     "status": "completed"
    },
    "tags": []
   },
   "outputs": [],
   "source": [
    "df['MntTotal'] = df['MntWines']+df['MntFruits']+df['MntMeatProducts']+df['MntFishProducts']+df['MntSweetProducts']+df['MntGoldProds']\n",
    "df['NumAllPurchases'] = df['NumWebPurchases']+df['NumCatalogPurchases']+df['NumStorePurchases']\n",
    "df['AverageCheck'] = round((df['MntTotal'] / df['NumAllPurchases']), 1)\n",
    "df['ShareDealsPurchases'] = round((df['NumDealsPurchases'] / df['NumAllPurchases']) * 100, 1)\n",
    "df['TotalAcceptedCmp'] = df['AcceptedCmp1']+df['AcceptedCmp2']+df['AcceptedCmp3']+df['AcceptedCmp4']+df['AcceptedCmp5']+df['Response']"
   ]
  },
  {
   "cell_type": "markdown",
   "metadata": {
    "papermill": {
     "duration": 0.029591,
     "end_time": "2021-09-25T10:02:18.659241",
     "exception": false,
     "start_time": "2021-09-25T10:02:18.62965",
     "status": "completed"
    },
    "tags": []
   },
   "source": [
    "There are some logic errors in data, so 6 clients spent money, but did not make a single order - I will delete them."
   ]
  },
  {
   "cell_type": "code",
   "execution_count": 500,
   "metadata": {
    "ExecuteTime": {
     "end_time": "2022-04-29T02:30:01.479187Z",
     "start_time": "2022-04-29T02:30:01.464227Z"
    },
    "papermill": {
     "duration": 0.046247,
     "end_time": "2021-09-25T10:02:18.734923",
     "exception": false,
     "start_time": "2021-09-25T10:02:18.688676",
     "status": "completed"
    },
    "tags": []
   },
   "outputs": [],
   "source": [
    "df = df.query(\"NumAllPurchases != 0\")"
   ]
  },
  {
   "cell_type": "markdown",
   "metadata": {
    "papermill": {
     "duration": 0.035935,
     "end_time": "2021-09-25T10:02:28.422276",
     "exception": false,
     "start_time": "2021-09-25T10:02:28.386341",
     "status": "completed"
    },
    "tags": []
   },
   "source": [
    "8 Outliers in Income where 7 Customer's `Income` is near 150000\n",
    "and there is 1 Customer having `Income` greater than 600000"
   ]
  },
  {
   "cell_type": "markdown",
   "metadata": {
    "papermill": {
     "duration": 0.03929,
     "end_time": "2021-09-25T10:02:57.414947",
     "exception": false,
     "start_time": "2021-09-25T10:02:57.375657",
     "status": "completed"
    },
    "tags": []
   },
   "source": [
    "Filling missing values with median you can also use mean."
   ]
  },
  {
   "cell_type": "code",
   "execution_count": 501,
   "metadata": {
    "ExecuteTime": {
     "end_time": "2022-04-29T02:30:49.872502Z",
     "start_time": "2022-04-29T02:30:49.857500Z"
    },
    "papermill": {
     "duration": 0.049902,
     "end_time": "2021-09-25T10:02:57.50421",
     "exception": false,
     "start_time": "2021-09-25T10:02:57.454308",
     "status": "completed"
    },
    "tags": []
   },
   "outputs": [
    {
     "name": "stdout",
     "output_type": "stream",
     "text": [
      "Income Median: 51400\n",
      "Income Mean: 52242\n",
      "difference: 842\n"
     ]
    }
   ],
   "source": [
    "median = df['Income'].median()\n",
    "mean = df['Income'].mean()\n",
    "\n",
    "dif = mean - median\n",
    "print(f'Income Median: {round(median)}\\nIncome Mean: {round(mean)}\\ndifference: {round(dif)}')\n",
    "\n",
    "df['Income'].fillna(median, inplace = True)"
   ]
  },
  {
   "cell_type": "markdown",
   "metadata": {
    "papermill": {
     "duration": 0.039986,
     "end_time": "2021-09-25T10:02:57.58488",
     "exception": false,
     "start_time": "2021-09-25T10:02:57.544894",
     "status": "completed"
    },
    "tags": []
   },
   "source": [
    "Droping useless columns"
   ]
  },
  {
   "cell_type": "code",
   "execution_count": 502,
   "metadata": {
    "ExecuteTime": {
     "end_time": "2022-04-29T02:30:49.888011Z",
     "start_time": "2022-04-29T02:30:49.873512Z"
    },
    "papermill": {
     "duration": 0.049259,
     "end_time": "2021-09-25T10:02:57.674922",
     "exception": false,
     "start_time": "2021-09-25T10:02:57.625663",
     "status": "completed"
    },
    "tags": []
   },
   "outputs": [],
   "source": [
    "df.drop(['ID', 'Year_Birth', 'Kidhome', 'Teenhome', 'Dt_Customer', 'Z_CostContact', 'Z_Revenue', 'Collected'], axis = 1, inplace = True)"
   ]
  },
  {
   "cell_type": "markdown",
   "metadata": {
    "papermill": {
     "duration": 0.040882,
     "end_time": "2021-09-25T10:02:57.757285",
     "exception": false,
     "start_time": "2021-09-25T10:02:57.716403",
     "status": "completed"
    },
    "tags": []
   },
   "source": [
    "**Converting outliers.**"
   ]
  },
  {
   "cell_type": "code",
   "execution_count": 503,
   "metadata": {
    "ExecuteTime": {
     "end_time": "2022-04-29T02:30:49.903013Z",
     "start_time": "2022-04-29T02:30:49.889046Z"
    },
    "papermill": {
     "duration": 0.050067,
     "end_time": "2021-09-25T10:02:57.847413",
     "exception": false,
     "start_time": "2021-09-25T10:02:57.797346",
     "status": "completed"
    },
    "tags": []
   },
   "outputs": [],
   "source": [
    "df['Income'] = np.where(df['Income'] > 120000, 120000, df['Income'])\n",
    "df['AverageCheck'] = np.where(df['AverageCheck'] > 200, 200, df['AverageCheck'])"
   ]
  },
  {
   "cell_type": "markdown",
   "metadata": {
    "papermill": {
     "duration": 0.05907,
     "end_time": "2021-09-25T10:03:03.47813",
     "exception": false,
     "start_time": "2021-09-25T10:03:03.41906",
     "status": "completed"
    },
    "tags": []
   },
   "source": [
    "And finally, calculate the difference between how long a person has been a client and the count of days from the last purchase."
   ]
  },
  {
   "cell_type": "code",
   "execution_count": 504,
   "metadata": {
    "ExecuteTime": {
     "end_time": "2022-04-29T02:30:53.836283Z",
     "start_time": "2022-04-29T02:30:53.821290Z"
    },
    "papermill": {
     "duration": 0.067103,
     "end_time": "2021-09-25T10:03:03.605333",
     "exception": false,
     "start_time": "2021-09-25T10:03:03.53823",
     "status": "completed"
    },
    "tags": []
   },
   "outputs": [],
   "source": [
    "df['ActiveDays'] = df['Days_is_client'] - df['Recency']"
   ]
  },
  {
   "cell_type": "code",
   "execution_count": 505,
   "metadata": {
    "ExecuteTime": {
     "end_time": "2022-04-29T02:30:53.884151Z",
     "start_time": "2022-04-29T02:30:53.837276Z"
    },
    "papermill": {
     "duration": 0.11984,
     "end_time": "2021-09-25T10:03:03.784501",
     "exception": false,
     "start_time": "2021-09-25T10:03:03.664661",
     "status": "completed"
    },
    "tags": []
   },
   "outputs": [
    {
     "data": {
      "text/html": [
       "<style  type=\"text/css\" >\n",
       "#T_02537_row0_col2{\n",
       "            background-color:  #ffa600;\n",
       "            color:  #000000;\n",
       "        }#T_02537_row0_col3,#T_02537_row2_col26{\n",
       "            background-color:  #ffc203;\n",
       "            color:  #000000;\n",
       "        }#T_02537_row0_col4,#T_02537_row0_col5,#T_02537_row0_col6,#T_02537_row0_col7,#T_02537_row0_col8,#T_02537_row0_col9,#T_02537_row0_col11,#T_02537_row0_col12,#T_02537_row0_col14,#T_02537_row0_col21,#T_02537_row0_col25,#T_02537_row0_col26,#T_02537_row0_col27,#T_02537_row0_col28,#T_02537_row0_col30,#T_02537_row0_col31,#T_02537_row1_col22,#T_02537_row1_col23,#T_02537_row1_col24,#T_02537_row1_col29,#T_02537_row2_col2,#T_02537_row2_col11,#T_02537_row2_col13,#T_02537_row3_col23,#T_02537_row4_col3,#T_02537_row4_col10,#T_02537_row4_col23{\n",
       "            background-color:  #fc7f00;\n",
       "            color:  #000000;\n",
       "        }#T_02537_row0_col10,#T_02537_row2_col23,#T_02537_row3_col22,#T_02537_row4_col13,#T_02537_row4_col22{\n",
       "            background-color:  #ffbd00;\n",
       "            color:  #000000;\n",
       "        }#T_02537_row0_col13,#T_02537_row1_col10,#T_02537_row3_col10,#T_02537_row3_col13{\n",
       "            background-color:  #ffe81a;\n",
       "            color:  #000000;\n",
       "        }#T_02537_row0_col15,#T_02537_row0_col16,#T_02537_row0_col17,#T_02537_row0_col18,#T_02537_row0_col19,#T_02537_row0_col20,#T_02537_row0_col22,#T_02537_row0_col23,#T_02537_row1_col4,#T_02537_row1_col5,#T_02537_row1_col6,#T_02537_row1_col7,#T_02537_row1_col8,#T_02537_row1_col11,#T_02537_row1_col13,#T_02537_row1_col15,#T_02537_row1_col16,#T_02537_row1_col17,#T_02537_row1_col18,#T_02537_row1_col19,#T_02537_row1_col20,#T_02537_row1_col21,#T_02537_row1_col26,#T_02537_row1_col27,#T_02537_row1_col28,#T_02537_row1_col30,#T_02537_row2_col3,#T_02537_row2_col10,#T_02537_row2_col14,#T_02537_row2_col15,#T_02537_row2_col16,#T_02537_row2_col17,#T_02537_row2_col18,#T_02537_row2_col19,#T_02537_row2_col20,#T_02537_row2_col21,#T_02537_row2_col22,#T_02537_row2_col29,#T_02537_row2_col30,#T_02537_row3_col2,#T_02537_row3_col3,#T_02537_row3_col4,#T_02537_row3_col9,#T_02537_row3_col12,#T_02537_row3_col15,#T_02537_row3_col16,#T_02537_row3_col17,#T_02537_row3_col18,#T_02537_row3_col19,#T_02537_row3_col20,#T_02537_row3_col21,#T_02537_row3_col24,#T_02537_row3_col25,#T_02537_row3_col30,#T_02537_row3_col31,#T_02537_row4_col15,#T_02537_row4_col16,#T_02537_row4_col17,#T_02537_row4_col18,#T_02537_row4_col19,#T_02537_row4_col20,#T_02537_row4_col21,#T_02537_row4_col30{\n",
       "            background-color:  #e4ff7a;\n",
       "            color:  #000000;\n",
       "        }#T_02537_row0_col24{\n",
       "            background-color:  #fd8c00;\n",
       "            color:  #000000;\n",
       "        }#T_02537_row0_col29{\n",
       "            background-color:  #f8ee32;\n",
       "            color:  #000000;\n",
       "        }#T_02537_row1_col2{\n",
       "            background-color:  #ffc706;\n",
       "            color:  #000000;\n",
       "        }#T_02537_row1_col3{\n",
       "            background-color:  #f7ef36;\n",
       "            color:  #000000;\n",
       "        }#T_02537_row1_col9{\n",
       "            background-color:  #e5fe75;\n",
       "            color:  #000000;\n",
       "        }#T_02537_row1_col12,#T_02537_row4_col24{\n",
       "            background-color:  #eff654;\n",
       "            color:  #000000;\n",
       "        }#T_02537_row1_col14,#T_02537_row4_col14{\n",
       "            background-color:  #ffda11;\n",
       "            color:  #000000;\n",
       "        }#T_02537_row1_col25{\n",
       "            background-color:  #ebf962;\n",
       "            color:  #000000;\n",
       "        }#T_02537_row1_col31{\n",
       "            background-color:  #eafa65;\n",
       "            color:  #000000;\n",
       "        }#T_02537_row2_col4,#T_02537_row3_col14{\n",
       "            background-color:  #ffaa00;\n",
       "            color:  #000000;\n",
       "        }#T_02537_row2_col5{\n",
       "            background-color:  #ffb700;\n",
       "            color:  #000000;\n",
       "        }#T_02537_row2_col6{\n",
       "            background-color:  #fcea24;\n",
       "            color:  #000000;\n",
       "        }#T_02537_row2_col7{\n",
       "            background-color:  #ffac00;\n",
       "            color:  #000000;\n",
       "        }#T_02537_row2_col8{\n",
       "            background-color:  #fdea23;\n",
       "            color:  #000000;\n",
       "        }#T_02537_row2_col9{\n",
       "            background-color:  #ffc606;\n",
       "            color:  #000000;\n",
       "        }#T_02537_row2_col12{\n",
       "            background-color:  #faed2d;\n",
       "            color:  #000000;\n",
       "        }#T_02537_row2_col24{\n",
       "            background-color:  #ffad00;\n",
       "            color:  #000000;\n",
       "        }#T_02537_row2_col25{\n",
       "            background-color:  #ffc505;\n",
       "            color:  #000000;\n",
       "        }#T_02537_row2_col27{\n",
       "            background-color:  #fd8d00;\n",
       "            color:  #000000;\n",
       "        }#T_02537_row2_col28{\n",
       "            background-color:  #ffc102;\n",
       "            color:  #000000;\n",
       "        }#T_02537_row2_col31{\n",
       "            background-color:  #ffc303;\n",
       "            color:  #000000;\n",
       "        }#T_02537_row3_col5{\n",
       "            background-color:  #e7fc6e;\n",
       "            color:  #000000;\n",
       "        }#T_02537_row3_col6{\n",
       "            background-color:  #e7fd71;\n",
       "            color:  #000000;\n",
       "        }#T_02537_row3_col7{\n",
       "            background-color:  #e9fb68;\n",
       "            color:  #000000;\n",
       "        }#T_02537_row3_col8{\n",
       "            background-color:  #e6fd72;\n",
       "            color:  #000000;\n",
       "        }#T_02537_row3_col11{\n",
       "            background-color:  #f3f244;\n",
       "            color:  #000000;\n",
       "        }#T_02537_row3_col26{\n",
       "            background-color:  #e6fe74;\n",
       "            color:  #000000;\n",
       "        }#T_02537_row3_col27{\n",
       "            background-color:  #f0f550;\n",
       "            color:  #000000;\n",
       "        }#T_02537_row3_col28{\n",
       "            background-color:  #e7fc6f;\n",
       "            color:  #000000;\n",
       "        }#T_02537_row3_col29{\n",
       "            background-color:  #ffae00;\n",
       "            color:  #000000;\n",
       "        }#T_02537_row4_col2{\n",
       "            background-color:  #ffa500;\n",
       "            color:  #000000;\n",
       "        }#T_02537_row4_col4,#T_02537_row4_col7{\n",
       "            background-color:  #ffe619;\n",
       "            color:  #000000;\n",
       "        }#T_02537_row4_col5{\n",
       "            background-color:  #ffc002;\n",
       "            color:  #000000;\n",
       "        }#T_02537_row4_col6{\n",
       "            background-color:  #faec2a;\n",
       "            color:  #000000;\n",
       "        }#T_02537_row4_col8,#T_02537_row4_col12{\n",
       "            background-color:  #ffe015;\n",
       "            color:  #000000;\n",
       "        }#T_02537_row4_col9{\n",
       "            background-color:  #f1f44d;\n",
       "            color:  #000000;\n",
       "        }#T_02537_row4_col11{\n",
       "            background-color:  #ffb500;\n",
       "            color:  #000000;\n",
       "        }#T_02537_row4_col25{\n",
       "            background-color:  #ffe217;\n",
       "            color:  #000000;\n",
       "        }#T_02537_row4_col26{\n",
       "            background-color:  #ffe81b;\n",
       "            color:  #000000;\n",
       "        }#T_02537_row4_col27{\n",
       "            background-color:  #ffb600;\n",
       "            color:  #000000;\n",
       "        }#T_02537_row4_col28{\n",
       "            background-color:  #ffd710;\n",
       "            color:  #000000;\n",
       "        }#T_02537_row4_col29{\n",
       "            background-color:  #ffa800;\n",
       "            color:  #000000;\n",
       "        }#T_02537_row4_col31{\n",
       "            background-color:  #fbeb27;\n",
       "            color:  #000000;\n",
       "        }</style><table id=\"T_02537_\" ><thead>    <tr>        <th class=\"blank level0\" ></th>        <th class=\"col_heading level0 col0\" >Education</th>        <th class=\"col_heading level0 col1\" >Marital_Status</th>        <th class=\"col_heading level0 col2\" >Income</th>        <th class=\"col_heading level0 col3\" >Recency</th>        <th class=\"col_heading level0 col4\" >MntWines</th>        <th class=\"col_heading level0 col5\" >MntFruits</th>        <th class=\"col_heading level0 col6\" >MntMeatProducts</th>        <th class=\"col_heading level0 col7\" >MntFishProducts</th>        <th class=\"col_heading level0 col8\" >MntSweetProducts</th>        <th class=\"col_heading level0 col9\" >MntGoldProds</th>        <th class=\"col_heading level0 col10\" >NumDealsPurchases</th>        <th class=\"col_heading level0 col11\" >NumWebPurchases</th>        <th class=\"col_heading level0 col12\" >NumCatalogPurchases</th>        <th class=\"col_heading level0 col13\" >NumStorePurchases</th>        <th class=\"col_heading level0 col14\" >NumWebVisitsMonth</th>        <th class=\"col_heading level0 col15\" >AcceptedCmp3</th>        <th class=\"col_heading level0 col16\" >AcceptedCmp4</th>        <th class=\"col_heading level0 col17\" >AcceptedCmp5</th>        <th class=\"col_heading level0 col18\" >AcceptedCmp1</th>        <th class=\"col_heading level0 col19\" >AcceptedCmp2</th>        <th class=\"col_heading level0 col20\" >Complain</th>        <th class=\"col_heading level0 col21\" >Response</th>        <th class=\"col_heading level0 col22\" >Kids</th>        <th class=\"col_heading level0 col23\" >Family_size</th>        <th class=\"col_heading level0 col24\" >Age</th>        <th class=\"col_heading level0 col25\" >Days_is_client</th>        <th class=\"col_heading level0 col26\" >MntTotal</th>        <th class=\"col_heading level0 col27\" >NumAllPurchases</th>        <th class=\"col_heading level0 col28\" >AverageCheck</th>        <th class=\"col_heading level0 col29\" >ShareDealsPurchases</th>        <th class=\"col_heading level0 col30\" >TotalAcceptedCmp</th>        <th class=\"col_heading level0 col31\" >ActiveDays</th>    </tr></thead><tbody>\n",
       "                <tr>\n",
       "                        <th id=\"T_02537_level0_row0\" class=\"row_heading level0 row0\" >0</th>\n",
       "                        <td id=\"T_02537_row0_col0\" class=\"data row0 col0\" >Graduation</td>\n",
       "                        <td id=\"T_02537_row0_col1\" class=\"data row0 col1\" >Not in relationship</td>\n",
       "                        <td id=\"T_02537_row0_col2\" class=\"data row0 col2\" >58138.000000</td>\n",
       "                        <td id=\"T_02537_row0_col3\" class=\"data row0 col3\" >58</td>\n",
       "                        <td id=\"T_02537_row0_col4\" class=\"data row0 col4\" >635</td>\n",
       "                        <td id=\"T_02537_row0_col5\" class=\"data row0 col5\" >88</td>\n",
       "                        <td id=\"T_02537_row0_col6\" class=\"data row0 col6\" >546</td>\n",
       "                        <td id=\"T_02537_row0_col7\" class=\"data row0 col7\" >172</td>\n",
       "                        <td id=\"T_02537_row0_col8\" class=\"data row0 col8\" >88</td>\n",
       "                        <td id=\"T_02537_row0_col9\" class=\"data row0 col9\" >88</td>\n",
       "                        <td id=\"T_02537_row0_col10\" class=\"data row0 col10\" >3</td>\n",
       "                        <td id=\"T_02537_row0_col11\" class=\"data row0 col11\" >8</td>\n",
       "                        <td id=\"T_02537_row0_col12\" class=\"data row0 col12\" >10</td>\n",
       "                        <td id=\"T_02537_row0_col13\" class=\"data row0 col13\" >4</td>\n",
       "                        <td id=\"T_02537_row0_col14\" class=\"data row0 col14\" >7</td>\n",
       "                        <td id=\"T_02537_row0_col15\" class=\"data row0 col15\" >0</td>\n",
       "                        <td id=\"T_02537_row0_col16\" class=\"data row0 col16\" >0</td>\n",
       "                        <td id=\"T_02537_row0_col17\" class=\"data row0 col17\" >0</td>\n",
       "                        <td id=\"T_02537_row0_col18\" class=\"data row0 col18\" >0</td>\n",
       "                        <td id=\"T_02537_row0_col19\" class=\"data row0 col19\" >0</td>\n",
       "                        <td id=\"T_02537_row0_col20\" class=\"data row0 col20\" >0</td>\n",
       "                        <td id=\"T_02537_row0_col21\" class=\"data row0 col21\" >1</td>\n",
       "                        <td id=\"T_02537_row0_col22\" class=\"data row0 col22\" >0</td>\n",
       "                        <td id=\"T_02537_row0_col23\" class=\"data row0 col23\" >1</td>\n",
       "                        <td id=\"T_02537_row0_col24\" class=\"data row0 col24\" >57</td>\n",
       "                        <td id=\"T_02537_row0_col25\" class=\"data row0 col25\" >972</td>\n",
       "                        <td id=\"T_02537_row0_col26\" class=\"data row0 col26\" >1617</td>\n",
       "                        <td id=\"T_02537_row0_col27\" class=\"data row0 col27\" >22</td>\n",
       "                        <td id=\"T_02537_row0_col28\" class=\"data row0 col28\" >73.500000</td>\n",
       "                        <td id=\"T_02537_row0_col29\" class=\"data row0 col29\" >13.600000</td>\n",
       "                        <td id=\"T_02537_row0_col30\" class=\"data row0 col30\" >1</td>\n",
       "                        <td id=\"T_02537_row0_col31\" class=\"data row0 col31\" >914</td>\n",
       "            </tr>\n",
       "            <tr>\n",
       "                        <th id=\"T_02537_level0_row1\" class=\"row_heading level0 row1\" >1</th>\n",
       "                        <td id=\"T_02537_row1_col0\" class=\"data row1 col0\" >Graduation</td>\n",
       "                        <td id=\"T_02537_row1_col1\" class=\"data row1 col1\" >Not in relationship</td>\n",
       "                        <td id=\"T_02537_row1_col2\" class=\"data row1 col2\" >46344.000000</td>\n",
       "                        <td id=\"T_02537_row1_col3\" class=\"data row1 col3\" >38</td>\n",
       "                        <td id=\"T_02537_row1_col4\" class=\"data row1 col4\" >11</td>\n",
       "                        <td id=\"T_02537_row1_col5\" class=\"data row1 col5\" >1</td>\n",
       "                        <td id=\"T_02537_row1_col6\" class=\"data row1 col6\" >6</td>\n",
       "                        <td id=\"T_02537_row1_col7\" class=\"data row1 col7\" >2</td>\n",
       "                        <td id=\"T_02537_row1_col8\" class=\"data row1 col8\" >1</td>\n",
       "                        <td id=\"T_02537_row1_col9\" class=\"data row1 col9\" >6</td>\n",
       "                        <td id=\"T_02537_row1_col10\" class=\"data row1 col10\" >2</td>\n",
       "                        <td id=\"T_02537_row1_col11\" class=\"data row1 col11\" >1</td>\n",
       "                        <td id=\"T_02537_row1_col12\" class=\"data row1 col12\" >1</td>\n",
       "                        <td id=\"T_02537_row1_col13\" class=\"data row1 col13\" >2</td>\n",
       "                        <td id=\"T_02537_row1_col14\" class=\"data row1 col14\" >5</td>\n",
       "                        <td id=\"T_02537_row1_col15\" class=\"data row1 col15\" >0</td>\n",
       "                        <td id=\"T_02537_row1_col16\" class=\"data row1 col16\" >0</td>\n",
       "                        <td id=\"T_02537_row1_col17\" class=\"data row1 col17\" >0</td>\n",
       "                        <td id=\"T_02537_row1_col18\" class=\"data row1 col18\" >0</td>\n",
       "                        <td id=\"T_02537_row1_col19\" class=\"data row1 col19\" >0</td>\n",
       "                        <td id=\"T_02537_row1_col20\" class=\"data row1 col20\" >0</td>\n",
       "                        <td id=\"T_02537_row1_col21\" class=\"data row1 col21\" >0</td>\n",
       "                        <td id=\"T_02537_row1_col22\" class=\"data row1 col22\" >2</td>\n",
       "                        <td id=\"T_02537_row1_col23\" class=\"data row1 col23\" >3</td>\n",
       "                        <td id=\"T_02537_row1_col24\" class=\"data row1 col24\" >60</td>\n",
       "                        <td id=\"T_02537_row1_col25\" class=\"data row1 col25\" >126</td>\n",
       "                        <td id=\"T_02537_row1_col26\" class=\"data row1 col26\" >27</td>\n",
       "                        <td id=\"T_02537_row1_col27\" class=\"data row1 col27\" >4</td>\n",
       "                        <td id=\"T_02537_row1_col28\" class=\"data row1 col28\" >6.800000</td>\n",
       "                        <td id=\"T_02537_row1_col29\" class=\"data row1 col29\" >50.000000</td>\n",
       "                        <td id=\"T_02537_row1_col30\" class=\"data row1 col30\" >0</td>\n",
       "                        <td id=\"T_02537_row1_col31\" class=\"data row1 col31\" >88</td>\n",
       "            </tr>\n",
       "            <tr>\n",
       "                        <th id=\"T_02537_level0_row2\" class=\"row_heading level0 row2\" >2</th>\n",
       "                        <td id=\"T_02537_row2_col0\" class=\"data row2 col0\" >Graduation</td>\n",
       "                        <td id=\"T_02537_row2_col1\" class=\"data row2 col1\" >In relationship</td>\n",
       "                        <td id=\"T_02537_row2_col2\" class=\"data row2 col2\" >71613.000000</td>\n",
       "                        <td id=\"T_02537_row2_col3\" class=\"data row2 col3\" >26</td>\n",
       "                        <td id=\"T_02537_row2_col4\" class=\"data row2 col4\" >426</td>\n",
       "                        <td id=\"T_02537_row2_col5\" class=\"data row2 col5\" >49</td>\n",
       "                        <td id=\"T_02537_row2_col6\" class=\"data row2 col6\" >127</td>\n",
       "                        <td id=\"T_02537_row2_col7\" class=\"data row2 col7\" >111</td>\n",
       "                        <td id=\"T_02537_row2_col8\" class=\"data row2 col8\" >21</td>\n",
       "                        <td id=\"T_02537_row2_col9\" class=\"data row2 col9\" >42</td>\n",
       "                        <td id=\"T_02537_row2_col10\" class=\"data row2 col10\" >1</td>\n",
       "                        <td id=\"T_02537_row2_col11\" class=\"data row2 col11\" >8</td>\n",
       "                        <td id=\"T_02537_row2_col12\" class=\"data row2 col12\" >2</td>\n",
       "                        <td id=\"T_02537_row2_col13\" class=\"data row2 col13\" >10</td>\n",
       "                        <td id=\"T_02537_row2_col14\" class=\"data row2 col14\" >4</td>\n",
       "                        <td id=\"T_02537_row2_col15\" class=\"data row2 col15\" >0</td>\n",
       "                        <td id=\"T_02537_row2_col16\" class=\"data row2 col16\" >0</td>\n",
       "                        <td id=\"T_02537_row2_col17\" class=\"data row2 col17\" >0</td>\n",
       "                        <td id=\"T_02537_row2_col18\" class=\"data row2 col18\" >0</td>\n",
       "                        <td id=\"T_02537_row2_col19\" class=\"data row2 col19\" >0</td>\n",
       "                        <td id=\"T_02537_row2_col20\" class=\"data row2 col20\" >0</td>\n",
       "                        <td id=\"T_02537_row2_col21\" class=\"data row2 col21\" >0</td>\n",
       "                        <td id=\"T_02537_row2_col22\" class=\"data row2 col22\" >0</td>\n",
       "                        <td id=\"T_02537_row2_col23\" class=\"data row2 col23\" >2</td>\n",
       "                        <td id=\"T_02537_row2_col24\" class=\"data row2 col24\" >49</td>\n",
       "                        <td id=\"T_02537_row2_col25\" class=\"data row2 col25\" >473</td>\n",
       "                        <td id=\"T_02537_row2_col26\" class=\"data row2 col26\" >776</td>\n",
       "                        <td id=\"T_02537_row2_col27\" class=\"data row2 col27\" >20</td>\n",
       "                        <td id=\"T_02537_row2_col28\" class=\"data row2 col28\" >38.800000</td>\n",
       "                        <td id=\"T_02537_row2_col29\" class=\"data row2 col29\" >5.000000</td>\n",
       "                        <td id=\"T_02537_row2_col30\" class=\"data row2 col30\" >0</td>\n",
       "                        <td id=\"T_02537_row2_col31\" class=\"data row2 col31\" >447</td>\n",
       "            </tr>\n",
       "            <tr>\n",
       "                        <th id=\"T_02537_level0_row3\" class=\"row_heading level0 row3\" >3</th>\n",
       "                        <td id=\"T_02537_row3_col0\" class=\"data row3 col0\" >Graduation</td>\n",
       "                        <td id=\"T_02537_row3_col1\" class=\"data row3 col1\" >In relationship</td>\n",
       "                        <td id=\"T_02537_row3_col2\" class=\"data row3 col2\" >26646.000000</td>\n",
       "                        <td id=\"T_02537_row3_col3\" class=\"data row3 col3\" >26</td>\n",
       "                        <td id=\"T_02537_row3_col4\" class=\"data row3 col4\" >11</td>\n",
       "                        <td id=\"T_02537_row3_col5\" class=\"data row3 col5\" >4</td>\n",
       "                        <td id=\"T_02537_row3_col6\" class=\"data row3 col6\" >20</td>\n",
       "                        <td id=\"T_02537_row3_col7\" class=\"data row3 col7\" >10</td>\n",
       "                        <td id=\"T_02537_row3_col8\" class=\"data row3 col8\" >3</td>\n",
       "                        <td id=\"T_02537_row3_col9\" class=\"data row3 col9\" >5</td>\n",
       "                        <td id=\"T_02537_row3_col10\" class=\"data row3 col10\" >2</td>\n",
       "                        <td id=\"T_02537_row3_col11\" class=\"data row3 col11\" >2</td>\n",
       "                        <td id=\"T_02537_row3_col12\" class=\"data row3 col12\" >0</td>\n",
       "                        <td id=\"T_02537_row3_col13\" class=\"data row3 col13\" >4</td>\n",
       "                        <td id=\"T_02537_row3_col14\" class=\"data row3 col14\" >6</td>\n",
       "                        <td id=\"T_02537_row3_col15\" class=\"data row3 col15\" >0</td>\n",
       "                        <td id=\"T_02537_row3_col16\" class=\"data row3 col16\" >0</td>\n",
       "                        <td id=\"T_02537_row3_col17\" class=\"data row3 col17\" >0</td>\n",
       "                        <td id=\"T_02537_row3_col18\" class=\"data row3 col18\" >0</td>\n",
       "                        <td id=\"T_02537_row3_col19\" class=\"data row3 col19\" >0</td>\n",
       "                        <td id=\"T_02537_row3_col20\" class=\"data row3 col20\" >0</td>\n",
       "                        <td id=\"T_02537_row3_col21\" class=\"data row3 col21\" >0</td>\n",
       "                        <td id=\"T_02537_row3_col22\" class=\"data row3 col22\" >1</td>\n",
       "                        <td id=\"T_02537_row3_col23\" class=\"data row3 col23\" >3</td>\n",
       "                        <td id=\"T_02537_row3_col24\" class=\"data row3 col24\" >30</td>\n",
       "                        <td id=\"T_02537_row3_col25\" class=\"data row3 col25\" >66</td>\n",
       "                        <td id=\"T_02537_row3_col26\" class=\"data row3 col26\" >53</td>\n",
       "                        <td id=\"T_02537_row3_col27\" class=\"data row3 col27\" >6</td>\n",
       "                        <td id=\"T_02537_row3_col28\" class=\"data row3 col28\" >8.800000</td>\n",
       "                        <td id=\"T_02537_row3_col29\" class=\"data row3 col29\" >33.300000</td>\n",
       "                        <td id=\"T_02537_row3_col30\" class=\"data row3 col30\" >0</td>\n",
       "                        <td id=\"T_02537_row3_col31\" class=\"data row3 col31\" >40</td>\n",
       "            </tr>\n",
       "            <tr>\n",
       "                        <th id=\"T_02537_level0_row4\" class=\"row_heading level0 row4\" >4</th>\n",
       "                        <td id=\"T_02537_row4_col0\" class=\"data row4 col0\" >PhD</td>\n",
       "                        <td id=\"T_02537_row4_col1\" class=\"data row4 col1\" >In relationship</td>\n",
       "                        <td id=\"T_02537_row4_col2\" class=\"data row4 col2\" >58293.000000</td>\n",
       "                        <td id=\"T_02537_row4_col3\" class=\"data row4 col3\" >94</td>\n",
       "                        <td id=\"T_02537_row4_col4\" class=\"data row4 col4\" >173</td>\n",
       "                        <td id=\"T_02537_row4_col5\" class=\"data row4 col5\" >43</td>\n",
       "                        <td id=\"T_02537_row4_col6\" class=\"data row4 col6\" >118</td>\n",
       "                        <td id=\"T_02537_row4_col7\" class=\"data row4 col7\" >46</td>\n",
       "                        <td id=\"T_02537_row4_col8\" class=\"data row4 col8\" >27</td>\n",
       "                        <td id=\"T_02537_row4_col9\" class=\"data row4 col9\" >15</td>\n",
       "                        <td id=\"T_02537_row4_col10\" class=\"data row4 col10\" >5</td>\n",
       "                        <td id=\"T_02537_row4_col11\" class=\"data row4 col11\" >5</td>\n",
       "                        <td id=\"T_02537_row4_col12\" class=\"data row4 col12\" >3</td>\n",
       "                        <td id=\"T_02537_row4_col13\" class=\"data row4 col13\" >6</td>\n",
       "                        <td id=\"T_02537_row4_col14\" class=\"data row4 col14\" >5</td>\n",
       "                        <td id=\"T_02537_row4_col15\" class=\"data row4 col15\" >0</td>\n",
       "                        <td id=\"T_02537_row4_col16\" class=\"data row4 col16\" >0</td>\n",
       "                        <td id=\"T_02537_row4_col17\" class=\"data row4 col17\" >0</td>\n",
       "                        <td id=\"T_02537_row4_col18\" class=\"data row4 col18\" >0</td>\n",
       "                        <td id=\"T_02537_row4_col19\" class=\"data row4 col19\" >0</td>\n",
       "                        <td id=\"T_02537_row4_col20\" class=\"data row4 col20\" >0</td>\n",
       "                        <td id=\"T_02537_row4_col21\" class=\"data row4 col21\" >0</td>\n",
       "                        <td id=\"T_02537_row4_col22\" class=\"data row4 col22\" >1</td>\n",
       "                        <td id=\"T_02537_row4_col23\" class=\"data row4 col23\" >3</td>\n",
       "                        <td id=\"T_02537_row4_col24\" class=\"data row4 col24\" >33</td>\n",
       "                        <td id=\"T_02537_row4_col25\" class=\"data row4 col25\" >322</td>\n",
       "                        <td id=\"T_02537_row4_col26\" class=\"data row4 col26\" >422</td>\n",
       "                        <td id=\"T_02537_row4_col27\" class=\"data row4 col27\" >14</td>\n",
       "                        <td id=\"T_02537_row4_col28\" class=\"data row4 col28\" >30.100000</td>\n",
       "                        <td id=\"T_02537_row4_col29\" class=\"data row4 col29\" >35.700000</td>\n",
       "                        <td id=\"T_02537_row4_col30\" class=\"data row4 col30\" >0</td>\n",
       "                        <td id=\"T_02537_row4_col31\" class=\"data row4 col31\" >228</td>\n",
       "            </tr>\n",
       "    </tbody></table>"
      ],
      "text/plain": [
       "<pandas.io.formats.style.Styler at 0x7f9b6655a610>"
      ]
     },
     "execution_count": 505,
     "metadata": {},
     "output_type": "execute_result"
    }
   ],
   "source": [
    "df.head().style.background_gradient(cmap=\"Wistia\",text_color_threshold=0.01)"
   ]
  },
  {
   "cell_type": "markdown",
   "metadata": {
    "papermill": {
     "duration": 0.059532,
     "end_time": "2021-09-25T10:03:03.904901",
     "exception": false,
     "start_time": "2021-09-25T10:03:03.845369",
     "status": "completed"
    },
    "tags": []
   },
   "source": [
    "# **3. Data Visualization**"
   ]
  },
  {
   "cell_type": "code",
   "execution_count": 506,
   "metadata": {
    "ExecuteTime": {
     "end_time": "2022-04-29T02:31:26.498646Z",
     "start_time": "2022-04-29T02:31:26.485636Z"
    },
    "scrolled": true
   },
   "outputs": [
    {
     "name": "stdout",
     "output_type": "stream",
     "text": [
      "<class 'pandas.core.frame.DataFrame'>\n",
      "Int64Index: 2234 entries, 0 to 2239\n",
      "Data columns (total 32 columns):\n",
      " #   Column               Non-Null Count  Dtype  \n",
      "---  ------               --------------  -----  \n",
      " 0   Education            2234 non-null   object \n",
      " 1   Marital_Status       2234 non-null   object \n",
      " 2   Income               2234 non-null   float64\n",
      " 3   Recency              2234 non-null   int64  \n",
      " 4   MntWines             2234 non-null   int64  \n",
      " 5   MntFruits            2234 non-null   int64  \n",
      " 6   MntMeatProducts      2234 non-null   int64  \n",
      " 7   MntFishProducts      2234 non-null   int64  \n",
      " 8   MntSweetProducts     2234 non-null   int64  \n",
      " 9   MntGoldProds         2234 non-null   int64  \n",
      " 10  NumDealsPurchases    2234 non-null   int64  \n",
      " 11  NumWebPurchases      2234 non-null   int64  \n",
      " 12  NumCatalogPurchases  2234 non-null   int64  \n",
      " 13  NumStorePurchases    2234 non-null   int64  \n",
      " 14  NumWebVisitsMonth    2234 non-null   int64  \n",
      " 15  AcceptedCmp3         2234 non-null   int64  \n",
      " 16  AcceptedCmp4         2234 non-null   int64  \n",
      " 17  AcceptedCmp5         2234 non-null   int64  \n",
      " 18  AcceptedCmp1         2234 non-null   int64  \n",
      " 19  AcceptedCmp2         2234 non-null   int64  \n",
      " 20  Complain             2234 non-null   int64  \n",
      " 21  Response             2234 non-null   int64  \n",
      " 22  Kids                 2234 non-null   int64  \n",
      " 23  Family_size          2234 non-null   int64  \n",
      " 24  Age                  2234 non-null   int64  \n",
      " 25  Days_is_client       2234 non-null   int64  \n",
      " 26  MntTotal             2234 non-null   int64  \n",
      " 27  NumAllPurchases      2234 non-null   int64  \n",
      " 28  AverageCheck         2234 non-null   float64\n",
      " 29  ShareDealsPurchases  2234 non-null   float64\n",
      " 30  TotalAcceptedCmp     2234 non-null   int64  \n",
      " 31  ActiveDays           2234 non-null   int64  \n",
      "dtypes: float64(3), int64(27), object(2)\n",
      "memory usage: 576.0+ KB\n"
     ]
    }
   ],
   "source": [
    "df.info()"
   ]
  },
  {
   "cell_type": "code",
   "execution_count": 507,
   "metadata": {
    "ExecuteTime": {
     "end_time": "2022-04-29T02:31:26.514599Z",
     "start_time": "2022-04-29T02:31:26.499633Z"
    }
   },
   "outputs": [],
   "source": [
    "# plt.figure(figsize=(10,10))\n",
    "# sns.heatmap(df.corr())\n"
   ]
  },
  {
   "cell_type": "code",
   "execution_count": 508,
   "metadata": {
    "ExecuteTime": {
     "end_time": "2022-04-29T02:31:26.592350Z",
     "start_time": "2022-04-29T02:31:26.515588Z"
    }
   },
   "outputs": [],
   "source": [
    "\n",
    "object_cols = [col for col in df.columns if df[col].dtype == \"object\"]\n",
    "object_cols\n",
    "from sklearn.preprocessing import LabelEncoder\n",
    "\n",
    "le = LabelEncoder()\n",
    "for object_cols in object_cols:\n",
    "    df[object_cols] = le.fit_transform(df[object_cols])\n"
   ]
  },
  {
   "cell_type": "code",
   "execution_count": 509,
   "metadata": {
    "ExecuteTime": {
     "end_time": "2022-04-29T02:31:26.608307Z",
     "start_time": "2022-04-29T02:31:26.593348Z"
    }
   },
   "outputs": [
    {
     "data": {
      "text/plain": [
       "Index(['Education', 'Marital_Status', 'Income', 'Recency', 'MntWines',\n",
       "       'MntFruits', 'MntMeatProducts', 'MntFishProducts', 'MntSweetProducts',\n",
       "       'MntGoldProds', 'NumDealsPurchases', 'NumWebPurchases',\n",
       "       'NumCatalogPurchases', 'NumStorePurchases', 'NumWebVisitsMonth',\n",
       "       'AcceptedCmp3', 'AcceptedCmp4', 'AcceptedCmp5', 'AcceptedCmp1',\n",
       "       'AcceptedCmp2', 'Complain', 'Response', 'Kids', 'Family_size', 'Age',\n",
       "       'Days_is_client', 'MntTotal', 'NumAllPurchases', 'AverageCheck',\n",
       "       'ShareDealsPurchases', 'TotalAcceptedCmp', 'ActiveDays'],\n",
       "      dtype='object')"
      ]
     },
     "execution_count": 509,
     "metadata": {},
     "output_type": "execute_result"
    }
   ],
   "source": [
    "df.columns"
   ]
  },
  {
   "cell_type": "code",
   "execution_count": 510,
   "metadata": {
    "ExecuteTime": {
     "end_time": "2022-04-29T02:31:38.837014Z",
     "start_time": "2022-04-29T02:31:26.609305Z"
    }
   },
   "outputs": [],
   "source": [
    "from sdv.tabular import GaussianCopula\n",
    "model = GaussianCopula()\n",
    "model.fit(df)"
   ]
  },
  {
   "cell_type": "code",
   "execution_count": 511,
   "metadata": {
    "ExecuteTime": {
     "end_time": "2022-04-29T02:31:38.946400Z",
     "start_time": "2022-04-29T02:31:38.837654Z"
    }
   },
   "outputs": [
    {
     "data": {
      "text/html": [
       "<div>\n",
       "<style scoped>\n",
       "    .dataframe tbody tr th:only-of-type {\n",
       "        vertical-align: middle;\n",
       "    }\n",
       "\n",
       "    .dataframe tbody tr th {\n",
       "        vertical-align: top;\n",
       "    }\n",
       "\n",
       "    .dataframe thead th {\n",
       "        text-align: right;\n",
       "    }\n",
       "</style>\n",
       "<table border=\"1\" class=\"dataframe\">\n",
       "  <thead>\n",
       "    <tr style=\"text-align: right;\">\n",
       "      <th></th>\n",
       "      <th>Education</th>\n",
       "      <th>Marital_Status</th>\n",
       "      <th>Income</th>\n",
       "      <th>Recency</th>\n",
       "      <th>MntWines</th>\n",
       "      <th>MntFruits</th>\n",
       "      <th>MntMeatProducts</th>\n",
       "      <th>MntFishProducts</th>\n",
       "      <th>MntSweetProducts</th>\n",
       "      <th>MntGoldProds</th>\n",
       "      <th>NumDealsPurchases</th>\n",
       "      <th>NumWebPurchases</th>\n",
       "      <th>NumCatalogPurchases</th>\n",
       "      <th>NumStorePurchases</th>\n",
       "      <th>NumWebVisitsMonth</th>\n",
       "      <th>AcceptedCmp3</th>\n",
       "      <th>AcceptedCmp4</th>\n",
       "      <th>AcceptedCmp5</th>\n",
       "      <th>AcceptedCmp1</th>\n",
       "      <th>AcceptedCmp2</th>\n",
       "      <th>Complain</th>\n",
       "      <th>Response</th>\n",
       "      <th>Kids</th>\n",
       "      <th>Family_size</th>\n",
       "      <th>Age</th>\n",
       "      <th>Days_is_client</th>\n",
       "      <th>MntTotal</th>\n",
       "      <th>NumAllPurchases</th>\n",
       "      <th>AverageCheck</th>\n",
       "      <th>ShareDealsPurchases</th>\n",
       "      <th>TotalAcceptedCmp</th>\n",
       "      <th>ActiveDays</th>\n",
       "    </tr>\n",
       "  </thead>\n",
       "  <tbody>\n",
       "    <tr>\n",
       "      <th>0</th>\n",
       "      <td>3</td>\n",
       "      <td>1</td>\n",
       "      <td>33006.4</td>\n",
       "      <td>88</td>\n",
       "      <td>8</td>\n",
       "      <td>0</td>\n",
       "      <td>16</td>\n",
       "      <td>4</td>\n",
       "      <td>1</td>\n",
       "      <td>7</td>\n",
       "      <td>2</td>\n",
       "      <td>1</td>\n",
       "      <td>0</td>\n",
       "      <td>4</td>\n",
       "      <td>5</td>\n",
       "      <td>0</td>\n",
       "      <td>0</td>\n",
       "      <td>0</td>\n",
       "      <td>0</td>\n",
       "      <td>0</td>\n",
       "      <td>0</td>\n",
       "      <td>0</td>\n",
       "      <td>2</td>\n",
       "      <td>3</td>\n",
       "      <td>56</td>\n",
       "      <td>509</td>\n",
       "      <td>81</td>\n",
       "      <td>3</td>\n",
       "      <td>14.9</td>\n",
       "      <td>29.8</td>\n",
       "      <td>0</td>\n",
       "      <td>397</td>\n",
       "    </tr>\n",
       "    <tr>\n",
       "      <th>1</th>\n",
       "      <td>4</td>\n",
       "      <td>1</td>\n",
       "      <td>30528.1</td>\n",
       "      <td>4</td>\n",
       "      <td>25</td>\n",
       "      <td>0</td>\n",
       "      <td>7</td>\n",
       "      <td>0</td>\n",
       "      <td>1</td>\n",
       "      <td>4</td>\n",
       "      <td>2</td>\n",
       "      <td>3</td>\n",
       "      <td>0</td>\n",
       "      <td>7</td>\n",
       "      <td>8</td>\n",
       "      <td>0</td>\n",
       "      <td>0</td>\n",
       "      <td>0</td>\n",
       "      <td>0</td>\n",
       "      <td>0</td>\n",
       "      <td>0</td>\n",
       "      <td>0</td>\n",
       "      <td>1</td>\n",
       "      <td>3</td>\n",
       "      <td>71</td>\n",
       "      <td>203</td>\n",
       "      <td>54</td>\n",
       "      <td>6</td>\n",
       "      <td>10.6</td>\n",
       "      <td>37.0</td>\n",
       "      <td>0</td>\n",
       "      <td>200</td>\n",
       "    </tr>\n",
       "    <tr>\n",
       "      <th>2</th>\n",
       "      <td>1</td>\n",
       "      <td>1</td>\n",
       "      <td>41368.6</td>\n",
       "      <td>96</td>\n",
       "      <td>27</td>\n",
       "      <td>12</td>\n",
       "      <td>80</td>\n",
       "      <td>0</td>\n",
       "      <td>7</td>\n",
       "      <td>208</td>\n",
       "      <td>0</td>\n",
       "      <td>1</td>\n",
       "      <td>3</td>\n",
       "      <td>6</td>\n",
       "      <td>3</td>\n",
       "      <td>0</td>\n",
       "      <td>0</td>\n",
       "      <td>0</td>\n",
       "      <td>0</td>\n",
       "      <td>0</td>\n",
       "      <td>0</td>\n",
       "      <td>0</td>\n",
       "      <td>1</td>\n",
       "      <td>2</td>\n",
       "      <td>49</td>\n",
       "      <td>574</td>\n",
       "      <td>288</td>\n",
       "      <td>10</td>\n",
       "      <td>27.7</td>\n",
       "      <td>9.2</td>\n",
       "      <td>0</td>\n",
       "      <td>435</td>\n",
       "    </tr>\n",
       "    <tr>\n",
       "      <th>3</th>\n",
       "      <td>2</td>\n",
       "      <td>0</td>\n",
       "      <td>62323.0</td>\n",
       "      <td>35</td>\n",
       "      <td>204</td>\n",
       "      <td>7</td>\n",
       "      <td>392</td>\n",
       "      <td>1</td>\n",
       "      <td>30</td>\n",
       "      <td>0</td>\n",
       "      <td>1</td>\n",
       "      <td>8</td>\n",
       "      <td>2</td>\n",
       "      <td>11</td>\n",
       "      <td>5</td>\n",
       "      <td>0</td>\n",
       "      <td>0</td>\n",
       "      <td>0</td>\n",
       "      <td>0</td>\n",
       "      <td>0</td>\n",
       "      <td>0</td>\n",
       "      <td>0</td>\n",
       "      <td>1</td>\n",
       "      <td>2</td>\n",
       "      <td>52</td>\n",
       "      <td>115</td>\n",
       "      <td>781</td>\n",
       "      <td>21</td>\n",
       "      <td>27.9</td>\n",
       "      <td>7.3</td>\n",
       "      <td>1</td>\n",
       "      <td>102</td>\n",
       "    </tr>\n",
       "    <tr>\n",
       "      <th>4</th>\n",
       "      <td>3</td>\n",
       "      <td>1</td>\n",
       "      <td>34138.0</td>\n",
       "      <td>75</td>\n",
       "      <td>72</td>\n",
       "      <td>0</td>\n",
       "      <td>15</td>\n",
       "      <td>1</td>\n",
       "      <td>14</td>\n",
       "      <td>6</td>\n",
       "      <td>3</td>\n",
       "      <td>3</td>\n",
       "      <td>0</td>\n",
       "      <td>0</td>\n",
       "      <td>8</td>\n",
       "      <td>0</td>\n",
       "      <td>0</td>\n",
       "      <td>0</td>\n",
       "      <td>0</td>\n",
       "      <td>0</td>\n",
       "      <td>0</td>\n",
       "      <td>0</td>\n",
       "      <td>2</td>\n",
       "      <td>4</td>\n",
       "      <td>35</td>\n",
       "      <td>644</td>\n",
       "      <td>78</td>\n",
       "      <td>2</td>\n",
       "      <td>21.9</td>\n",
       "      <td>42.4</td>\n",
       "      <td>0</td>\n",
       "      <td>598</td>\n",
       "    </tr>\n",
       "  </tbody>\n",
       "</table>\n",
       "</div>"
      ],
      "text/plain": [
       "   Education  Marital_Status   Income  Recency  MntWines  MntFruits  \\\n",
       "0          3               1  33006.4       88         8          0   \n",
       "1          4               1  30528.1        4        25          0   \n",
       "2          1               1  41368.6       96        27         12   \n",
       "3          2               0  62323.0       35       204          7   \n",
       "4          3               1  34138.0       75        72          0   \n",
       "\n",
       "   MntMeatProducts  MntFishProducts  MntSweetProducts  MntGoldProds  \\\n",
       "0               16                4                 1             7   \n",
       "1                7                0                 1             4   \n",
       "2               80                0                 7           208   \n",
       "3              392                1                30             0   \n",
       "4               15                1                14             6   \n",
       "\n",
       "   NumDealsPurchases  NumWebPurchases  NumCatalogPurchases  NumStorePurchases  \\\n",
       "0                  2                1                    0                  4   \n",
       "1                  2                3                    0                  7   \n",
       "2                  0                1                    3                  6   \n",
       "3                  1                8                    2                 11   \n",
       "4                  3                3                    0                  0   \n",
       "\n",
       "   NumWebVisitsMonth  AcceptedCmp3  AcceptedCmp4  AcceptedCmp5  AcceptedCmp1  \\\n",
       "0                  5             0             0             0             0   \n",
       "1                  8             0             0             0             0   \n",
       "2                  3             0             0             0             0   \n",
       "3                  5             0             0             0             0   \n",
       "4                  8             0             0             0             0   \n",
       "\n",
       "   AcceptedCmp2  Complain  Response  Kids  Family_size  Age  Days_is_client  \\\n",
       "0             0         0         0     2            3   56             509   \n",
       "1             0         0         0     1            3   71             203   \n",
       "2             0         0         0     1            2   49             574   \n",
       "3             0         0         0     1            2   52             115   \n",
       "4             0         0         0     2            4   35             644   \n",
       "\n",
       "   MntTotal  NumAllPurchases  AverageCheck  ShareDealsPurchases  \\\n",
       "0        81                3          14.9                 29.8   \n",
       "1        54                6          10.6                 37.0   \n",
       "2       288               10          27.7                  9.2   \n",
       "3       781               21          27.9                  7.3   \n",
       "4        78                2          21.9                 42.4   \n",
       "\n",
       "   TotalAcceptedCmp  ActiveDays  \n",
       "0                 0         397  \n",
       "1                 0         200  \n",
       "2                 0         435  \n",
       "3                 1         102  \n",
       "4                 0         598  "
      ]
     },
     "execution_count": 511,
     "metadata": {},
     "output_type": "execute_result"
    }
   ],
   "source": [
    "sample = model.sample(1000)\n",
    "sample.head()"
   ]
  },
  {
   "cell_type": "code",
   "execution_count": 512,
   "metadata": {
    "ExecuteTime": {
     "end_time": "2022-04-29T02:31:38.962352Z",
     "start_time": "2022-04-29T02:31:38.947362Z"
    }
   },
   "outputs": [],
   "source": [
    "df = df.append(sample)"
   ]
  },
  {
   "cell_type": "code",
   "execution_count": 513,
   "metadata": {
    "ExecuteTime": {
     "end_time": "2022-04-29T02:31:38.977318Z",
     "start_time": "2022-04-29T02:31:38.963321Z"
    }
   },
   "outputs": [],
   "source": [
    "df_x_dummies = pd.get_dummies(df.drop([\"Response\"], axis=1))\n",
    "y = df['Response']"
   ]
  },
  {
   "cell_type": "code",
   "execution_count": 514,
   "metadata": {
    "ExecuteTime": {
     "end_time": "2022-04-29T02:31:38.993240Z",
     "start_time": "2022-04-29T02:31:38.978280Z"
    }
   },
   "outputs": [
    {
     "name": "stdout",
     "output_type": "stream",
     "text": [
      "missing values for each column\n",
      "Education : 0\n",
      "Marital_Status : 0\n",
      "Income : 0\n",
      "Recency : 0\n",
      "MntWines : 0\n",
      "MntFruits : 0\n",
      "MntMeatProducts : 0\n",
      "MntFishProducts : 0\n",
      "MntSweetProducts : 0\n",
      "MntGoldProds : 0\n",
      "NumDealsPurchases : 0\n",
      "NumWebPurchases : 0\n",
      "NumCatalogPurchases : 0\n",
      "NumStorePurchases : 0\n",
      "NumWebVisitsMonth : 0\n",
      "AcceptedCmp3 : 0\n",
      "AcceptedCmp4 : 0\n",
      "AcceptedCmp5 : 0\n",
      "AcceptedCmp1 : 0\n",
      "AcceptedCmp2 : 0\n",
      "Complain : 0\n",
      "Kids : 0\n",
      "Family_size : 0\n",
      "Age : 0\n",
      "Days_is_client : 0\n",
      "MntTotal : 0\n",
      "NumAllPurchases : 0\n",
      "AverageCheck : 0\n",
      "ShareDealsPurchases : 0\n",
      "TotalAcceptedCmp : 0\n",
      "ActiveDays : 0\n"
     ]
    }
   ],
   "source": [
    "print('missing values for each column')\n",
    "for col, i in enumerate(df_x_dummies):\n",
    "    print(df_x_dummies.columns[col], ':',df_x_dummies[i].isna().sum())"
   ]
  },
  {
   "cell_type": "markdown",
   "metadata": {},
   "source": [
    "# Base Model"
   ]
  },
  {
   "cell_type": "code",
   "execution_count": 515,
   "metadata": {
    "ExecuteTime": {
     "end_time": "2022-04-29T02:31:39.025155Z",
     "start_time": "2022-04-29T02:31:39.010195Z"
    }
   },
   "outputs": [],
   "source": [
    "X = df_x_dummies\n",
    "y = df['Response']"
   ]
  },
  {
   "cell_type": "code",
   "execution_count": 516,
   "metadata": {
    "ExecuteTime": {
     "end_time": "2022-04-29T02:31:39.041112Z",
     "start_time": "2022-04-29T02:31:39.026152Z"
    }
   },
   "outputs": [],
   "source": [
    "from sklearn.model_selection import train_test_split\n",
    "\n",
    "X_train, X_test, y_train, y_test = train_test_split(X, y, test_size = 0.2, random_state = 42)"
   ]
  },
  {
   "cell_type": "markdown",
   "metadata": {},
   "source": [
    "# XGBooste"
   ]
  },
  {
   "cell_type": "code",
   "execution_count": 530,
   "metadata": {},
   "outputs": [
    {
     "data": {
      "text/plain": [
       "XGBClassifier(base_score=0.5, booster='gbtree', callbacks=None,\n",
       "              colsample_bylevel=1, colsample_bynode=1, colsample_bytree=1,\n",
       "              early_stopping_rounds=None, enable_categorical=False,\n",
       "              eval_metric=None, gamma=0, gpu_id=-1, grow_policy='depthwise',\n",
       "              importance_type=None, interaction_constraints='',\n",
       "              learning_rate=0.300000012, max_bin=256, max_cat_to_onehot=4,\n",
       "              max_delta_step=0, max_depth=6, max_leaves=0, min_child_weight=1,\n",
       "              missing=nan, monotone_constraints='()', n_estimators=100,\n",
       "              n_jobs=0, num_parallel_tree=1, predictor='auto', random_state=0,\n",
       "              reg_alpha=0, reg_lambda=1, ...)"
      ]
     },
     "execution_count": 530,
     "metadata": {},
     "output_type": "execute_result"
    }
   ],
   "source": [
    "from xgboost import XGBClassifier\n",
    "xg_classifier = XGBClassifier()\n",
    "xg_classifier.fit(X_train, y_train)"
   ]
  },
  {
   "cell_type": "code",
   "execution_count": 531,
   "metadata": {
    "ExecuteTime": {
     "end_time": "2022-04-29T02:31:39.089020Z",
     "start_time": "2022-04-29T02:31:39.074024Z"
    }
   },
   "outputs": [
    {
     "name": "stdout",
     "output_type": "stream",
     "text": [
      "         Predict[0]  Predict[1]\n",
      "True[0]         533          20\n",
      "True[1]          19          75\n",
      "accuracy is : 93.97217928902627\n"
     ]
    }
   ],
   "source": [
    "y_pred = xg_classifier.predict(X_test)\n",
    "\n",
    "from sklearn.metrics import confusion_matrix\n",
    "\n",
    "confusion_matrix = pd.DataFrame(confusion_matrix(y_test, y_pred), \n",
    "                                index = ['True[0]', 'True[1]'],\n",
    "                               columns = ['Predict[0]', 'Predict[1]'])\n",
    "print(confusion_matrix)\n",
    "\n",
    "\n",
    "from sklearn.metrics import accuracy_score\n",
    "\n",
    "print('accuracy is :', accuracy_score(y_test, y_pred)*100)"
   ]
  },
  {
   "cell_type": "code",
   "execution_count": 532,
   "metadata": {},
   "outputs": [
    {
     "data": {
      "image/png": "[encoded data removed]",
      "text/plain": [
       "<Figure size 432x288 with 1 Axes>"
      ]
     },
     "metadata": {
      "needs_background": "light"
     },
     "output_type": "display_data"
    }
   ],
   "source": [
    "from sklearn import metrics\n",
    "fpr, tpr, thresholds = metrics.roc_curve(y_test, y_pred)\n",
    "\n",
    "plt.plot(fpr, tpr, 'k')\n",
    "plt.plot([0, 1], [0, 1], 'b--')\n",
    "plt.xlabel('FPR')\n",
    "plt.ylabel('TPR')\n",
    "plt.title('ROC for XGBoost without feature selection')\n",
    "plt. show()"
   ]
  },
  {
   "cell_type": "markdown",
   "metadata": {},
   "source": [
    "# Random Forest"
   ]
  },
  {
   "cell_type": "code",
   "execution_count": 533,
   "metadata": {},
   "outputs": [
    {
     "data": {
      "text/plain": [
       "RandomForestClassifier()"
      ]
     },
     "execution_count": 533,
     "metadata": {},
     "output_type": "execute_result"
    }
   ],
   "source": [
    "from sklearn.ensemble import RandomForestClassifier\n",
    "rand_for_classifier = RandomForestClassifier()\n",
    "rand_for_classifier.fit(X_train, y_train)"
   ]
  },
  {
   "cell_type": "code",
   "execution_count": 534,
   "metadata": {},
   "outputs": [
    {
     "name": "stdout",
     "output_type": "stream",
     "text": [
      "         Predict[0]  Predict[1]\n",
      "True[0]         541          12\n",
      "True[1]          36          58\n"
     ]
    }
   ],
   "source": [
    "y_pred = rand_for_classifier.predict(X_test)\n",
    "\n",
    "from sklearn.metrics import confusion_matrix\n",
    "\n",
    "confusion_matrix = pd.DataFrame(confusion_matrix(y_test, y_pred), \n",
    "                                index = ['True[0]', 'True[1]'],\n",
    "                               columns = ['Predict[0]', 'Predict[1]'])\n",
    "print(confusion_matrix)\n"
   ]
  },
  {
   "cell_type": "code",
   "execution_count": 535,
   "metadata": {},
   "outputs": [
    {
     "name": "stdout",
     "output_type": "stream",
     "text": [
      "accuracy is : 92.58114374034004\n"
     ]
    }
   ],
   "source": [
    "from sklearn.metrics import accuracy_score\n",
    "\n",
    "print('accuracy is :', accuracy_score(y_test, y_pred)*100)"
   ]
  },
  {
   "cell_type": "code",
   "execution_count": 536,
   "metadata": {},
   "outputs": [
    {
     "data": {
      "image/png": "[encoded data removed]",
      "text/plain": [
       "<Figure size 432x288 with 1 Axes>"
      ]
     },
     "metadata": {
      "needs_background": "light"
     },
     "output_type": "display_data"
    }
   ],
   "source": [
    "fpr, tpr, thresholds = metrics.roc_curve(y_test, y_pred)\n",
    "\n",
    "plt.plot(fpr, tpr, 'k')\n",
    "plt.plot([0, 1], [0, 1], 'b--')\n",
    "plt.xlabel('FPR')\n",
    "plt.ylabel('TPR')\n",
    "plt.title('ROC for Random Forest without feature selection')\n",
    "plt. show()"
   ]
  },
  {
   "cell_type": "markdown",
   "metadata": {},
   "source": [
    "# KNN"
   ]
  },
  {
   "cell_type": "code",
   "execution_count": 537,
   "metadata": {},
   "outputs": [
    {
     "data": {
      "text/plain": [
       "KNeighborsClassifier(n_neighbors=3, weights='distance')"
      ]
     },
     "execution_count": 537,
     "metadata": {},
     "output_type": "execute_result"
    }
   ],
   "source": [
    "from sklearn.neighbors import KNeighborsClassifier\n",
    "\n",
    "classifier_knn = KNeighborsClassifier(n_neighbors=3, weights = 'distance')\n",
    "classifier_knn.fit(X_train, y_train)"
   ]
  },
  {
   "cell_type": "code",
   "execution_count": 538,
   "metadata": {},
   "outputs": [
    {
     "data": {
      "text/html": [
       "<div>\n",
       "<style scoped>\n",
       "    .dataframe tbody tr th:only-of-type {\n",
       "        vertical-align: middle;\n",
       "    }\n",
       "\n",
       "    .dataframe tbody tr th {\n",
       "        vertical-align: top;\n",
       "    }\n",
       "\n",
       "    .dataframe thead th {\n",
       "        text-align: right;\n",
       "    }\n",
       "</style>\n",
       "<table border=\"1\" class=\"dataframe\">\n",
       "  <thead>\n",
       "    <tr style=\"text-align: right;\">\n",
       "      <th></th>\n",
       "      <th>Predict[0]</th>\n",
       "      <th>Predict[1]</th>\n",
       "    </tr>\n",
       "  </thead>\n",
       "  <tbody>\n",
       "    <tr>\n",
       "      <th>True[0]</th>\n",
       "      <td>515</td>\n",
       "      <td>38</td>\n",
       "    </tr>\n",
       "    <tr>\n",
       "      <th>True[1]</th>\n",
       "      <td>71</td>\n",
       "      <td>23</td>\n",
       "    </tr>\n",
       "  </tbody>\n",
       "</table>\n",
       "</div>"
      ],
      "text/plain": [
       "         Predict[0]  Predict[1]\n",
       "True[0]         515          38\n",
       "True[1]          71          23"
      ]
     },
     "execution_count": 538,
     "metadata": {},
     "output_type": "execute_result"
    }
   ],
   "source": [
    "y_pred = classifier_knn.predict(X_test)\n",
    "\n",
    "from sklearn.metrics import confusion_matrix\n",
    "\n",
    "confusion_matrix = pd.DataFrame(confusion_matrix(y_test, y_pred), \n",
    "                                index = ['True[0]', 'True[1]'],\n",
    "                               columns = ['Predict[0]', 'Predict[1]'])\n",
    "confusion_matrix"
   ]
  },
  {
   "cell_type": "code",
   "execution_count": 539,
   "metadata": {},
   "outputs": [
    {
     "name": "stdout",
     "output_type": "stream",
     "text": [
      "accuracy is : 83.15301391035548\n"
     ]
    }
   ],
   "source": [
    "\n",
    "from sklearn.metrics import accuracy_score\n",
    "\n",
    "print('accuracy is :', accuracy_score(y_test, y_pred)*100)"
   ]
  },
  {
   "cell_type": "code",
   "execution_count": 540,
   "metadata": {},
   "outputs": [
    {
     "data": {
      "image/png": "[encoded data removed]",
      "text/plain": [
       "<Figure size 432x288 with 1 Axes>"
      ]
     },
     "metadata": {
      "needs_background": "light"
     },
     "output_type": "display_data"
    }
   ],
   "source": [
    "fpr, tpr, thresholds = metrics.roc_curve(y_test, y_pred)\n",
    "\n",
    "plt.plot(fpr, tpr, 'k')\n",
    "plt.plot([0, 1], [0, 1], 'b--')\n",
    "plt.xlabel('FPR')\n",
    "plt.ylabel('TPR')\n",
    "plt.title('ROC for KNN without feature selection')\n",
    "plt. show()"
   ]
  },
  {
   "cell_type": "code",
   "execution_count": null,
   "metadata": {},
   "outputs": [],
   "source": []
  }
 ],
 "metadata": {
  "kernelspec": {
   "display_name": "Python 3",
   "language": "python",
   "name": "python3"
  },
  "language_info": {
   "codemirror_mode": {
    "name": "ipython",
    "version": 3
   },
   "file_extension": ".py",
   "mimetype": "text/x-python",
   "name": "python",
   "nbconvert_exporter": "python",
   "pygments_lexer": "ipython3",
   "version": "3.9.1"
  }
 },
 "nbformat": 4,
 "nbformat_minor": 4
}
